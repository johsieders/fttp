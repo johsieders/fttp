{
 "cells": [
  {
   "cell_type": "markdown",
   "metadata": {},
   "source": [
    "# Classes\n",
    "\n",
    "> Uses and misuses of inheritance"
   ]
  },
  {
   "cell_type": "markdown",
   "metadata": {},
   "source": [
    "\n",
    "## Inheritance\n",
    "\n",
    "Iterables produce Iterators via `iter()` such as all Collections.\n",
    "Iterator yield the next element via `next()`. By convention, all Iterators\n",
    "are also Iterables; the standard implementation being to return self.\n",
    "Some examples:\n",
    "\n",
    "* `(0, 1, 2, 3)` is a tuple, no iterator\n",
    "* `range(4)` is a tuple, no iterator\n",
    "* `naturals()` is an iterator\n",
    "* `(1 / k for k in naturals())` is an iterator"
   ]
  },
  {
   "cell_type": "markdown",
   "metadata": {},
   "source": [
    "## Multiple Inheritance"
   ]
  },
  {
   "cell_type": "markdown",
   "metadata": {},
   "source": [
    "todo"
   ]
  },
  {
   "cell_type": "markdown",
   "metadata": {},
   "source": [
    "## Where is self?"
   ]
  },
  {
   "cell_type": "markdown",
   "metadata": {},
   "source": [
    "todo"
   ]
  },
  {
   "cell_type": "code",
   "execution_count": null,
   "metadata": {},
   "outputs": [],
   "source": [
    "from itertools import chain, cycle, islice\n",
    "from collections import deque\n",
    "from typing import Callable, Iterator, Tuple, List\n",
    "from collections.abc import Iterable\n",
    "from numbers import Number\n",
    "from operator import add"
   ]
  },
  {
   "cell_type": "markdown",
   "metadata": {},
   "source": [
    "Write a function `naturals() -> Iterator` which yields the natural numbers starting at 0.\n",
    "Hint: Use `yield`"
   ]
  },
  {
   "cell_type": "code",
   "execution_count": null,
   "metadata": {},
   "outputs": [],
   "source": [
    "#collapse\n",
    "def naturals(start: int = 0) -> Iterator[int]:\n",
    "    \"\"\"\n",
    "    :param start: an integer\n",
    "    :return: the naturals\n",
    "    \"\"\"\n",
    "    while True:\n",
    "        yield start\n",
    "        start += 1"
   ]
  },
  {
   "cell_type": "markdown",
   "metadata": {},
   "source": [
    "## Exercise B"
   ]
  },
  {
   "cell_type": "code",
   "execution_count": null,
   "metadata": {},
   "outputs": [],
   "source": [
    "# todo\n",
    "\n"
   ]
  }
 ],
 "metadata": {
  "kernelspec": {
   "display_name": "Python 3",
   "language": "python",
   "name": "python3"
  }
 },
 "nbformat": 4,
 "nbformat_minor": 1
}
