{
 "cells": [
  {
   "cell_type": "markdown",
   "metadata": {},
   "source": [
    "this text is not visible"
   ]
  },
  {
   "cell_type": "markdown",
   "metadata": {},
   "source": [
    "# This text is not visible"
   ]
  },
  {
   "cell_type": "markdown",
   "metadata": {},
   "source": [
    "This is my introductory text\n",
    "\n",
    "this is my introductory text\n",
    "\n",
    "this is my introductory text\n",
    "\n",
    "this is my introductory text\n",
    "\n",
    "this is my introductory text"
   ]
  },
  {
   "cell_type": "markdown",
   "metadata": {},
   "source": [
    "# A Fast Track to Programming\n",
    "\n",
    "> A cool approach following the Wizzard Book, with Python rather than Scheme\n",
    "\n",
    "> another comment"
   ]
  },
  {
   "cell_type": "markdown",
   "metadata": {},
   "source": [
    "Some text\n",
    "\n",
    "Some text\n",
    "\n",
    "\n",
    "Some text\n",
    "\n",
    "\n",
    "Some text\n"
   ]
  },
  {
   "cell_type": "markdown",
   "metadata": {},
   "source": [
    "### A Subsubtitle"
   ]
  },
  {
   "cell_type": "markdown",
   "metadata": {},
   "source": [
    "This is my introductory text\n",
    "\n",
    "this is my introductory text\n",
    "\n",
    "this is my introductory text\n",
    "\n",
    "this is my introductory text\n",
    "\n",
    "this is my introductory text"
   ]
  }
 ],
 "metadata": {
  "kernelspec": {
   "display_name": "Python 3",
   "language": "python",
   "name": "python3"
  }
 },
 "nbformat": 4,
 "nbformat_minor": 2
}
