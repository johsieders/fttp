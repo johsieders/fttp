{
 "cells": [
  {
   "cell_type": "markdown",
   "metadata": {},
   "source": [
    "what' happening here ?"
   ]
  },
  {
   "cell_type": "markdown",
   "metadata": {},
   "source": [
    "# A Fast Track to Programming\n",
    "> A cool approach following the Wizzard Book, with Python rather than Scheme"
   ]
  },
  {
   "cell_type": "markdown",
   "metadata": {},
   "source": [
    "This is my introductory text\n",
    "\n",
    "this is my introductory text\n",
    "\n",
    "this is my introductory text\n",
    "\n",
    "this is my introductory text\n",
    "\n",
    "this is my introductory text"
   ]
  }
 ],
 "metadata": {
  "kernelspec": {
   "display_name": "Python 3",
   "language": "python",
   "name": "python3"
  }
 },
 "nbformat": 4,
 "nbformat_minor": 2
}
