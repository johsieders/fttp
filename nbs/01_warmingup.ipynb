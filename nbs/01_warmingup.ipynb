{
 "cells": [
  {
   "cell_type": "markdown",
   "metadata": {},
   "source": [
    "# Warming Up\n",
    "\n",
    "> Easy and not so easy exercises"
   ]
  },
  {
   "cell_type": "markdown",
   "metadata": {},
   "source": [
    "We use fastai's test library. Our tests always preceed the implementation(s). They should silently go through, returning only the execution time."
   ]
  },
  {
   "cell_type": "code",
   "execution_count": null,
   "metadata": {},
   "outputs": [],
   "source": [
    "# uncomment this to install nbdev\n",
    "# !pip install nbdev\n",
    "    \n",
    "from fastcore.test import test_eq\n",
    "from timeit import timeit"
   ]
  },
  {
   "cell_type": "code",
   "execution_count": null,
   "metadata": {},
   "outputs": [],
   "source": [
    "for lg in (log2, mlog2):\n",
    "    print(f\"{lg.__qualname__ :<6}| {timeit(test_log2(lg), number=1000)}\")\n",
    "\n",
    "def test_and_display(testdriver, number, *implementations):\n",
    "    for t in implementations:\n",
    "        print(f\"{t.__qualname__ :<6}| {timeit(testdriver(t), number)}\")\n",
    "        \n",
    "    \n",
    "test_and_display(test_log2, 1000, log2, mlog2)"
   ]
  },
  {
   "cell_type": "markdown",
   "metadata": {},
   "source": [
    "## Some Very Short Functions"
   ]
  },
  {
   "cell_type": "markdown",
   "metadata": {},
   "source": [
    "We write a function `powerOf2(n: int) -> bool` which returns true iff n is a power of 2.\n",
    "\n",
    "Here is what `powerOf2` is supposed to do."
   ]
  },
  {
   "cell_type": "code",
   "execution_count": null,
   "metadata": {},
   "outputs": [],
   "source": [
    "def test_powerOf2():\n",
    "    test_eq(powerOf2(0), True)\n",
    "    test_eq(powerOf2(1), True)\n",
    "    test_eq(powerOf2(7), False)\n",
    "    test_eq(powerOf2(8), True)"
   ]
  },
  {
   "cell_type": "markdown",
   "metadata": {},
   "source": [
    "Idea: A power of 2, say 8, is a 1 followed by 0s: 0b1000. Subtracting 1 changes the leading 1 to 0 and the 0s to 1: 8 - 1 = 7 = 0b111. So, a bitwise AND of n and n - 1 should do. No log, no exp. "
   ]
  },
  {
   "cell_type": "code",
   "execution_count": null,
   "metadata": {},
   "outputs": [],
   "source": [
    "#collapse\n",
    "def powerOf2(n: int) -> bool:\n",
    "    \"\"\"\n",
    "    :param n: an integer > = 1\n",
    "    :return: true if n is a power of two\n",
    "    \"\"\"\n",
    "    return not n & (n - 1)"
   ]
  },
  {
   "cell_type": "code",
   "execution_count": null,
   "metadata": {},
   "outputs": [
    {
     "data": {
      "text/plain": [
       "0.03988870000000588"
      ]
     },
     "execution_count": null,
     "metadata": {},
     "output_type": "execute_result"
    }
   ],
   "source": [
    "timeit(test_powerOf2, number=1000)"
   ]
  },
  {
   "cell_type": "markdown",
   "metadata": {},
   "source": [
    "Write a function `log2(n: int) -> int` which returns the number of binary digits of n minus 1.\n",
    "\n",
    "Here is what `log2` is supposed to do."
   ]
  },
  {
   "cell_type": "code",
   "execution_count": null,
   "metadata": {},
   "outputs": [],
   "source": [
    "def test_log2(lg):\n",
    "    def aux(): \n",
    "        test_eq(lg(1), 0)\n",
    "        test_eq(lg(2), 1)\n",
    "        test_eq(lg(7), 2)\n",
    "        test_eq(lg(8), 3)\n",
    "    return aux"
   ]
  },
  {
   "cell_type": "markdown",
   "metadata": {},
   "source": [
    "Idea: shift `n` bitwise right while `n > 0` "
   ]
  },
  {
   "cell_type": "code",
   "execution_count": null,
   "metadata": {},
   "outputs": [],
   "source": [
    "#collapse\n",
    "def log2(n: int) -> int:\n",
    "    \"\"\"\n",
    "    :param n: an integer >= 0\n",
    "    :return: (number of binary digits of n) - 1\n",
    "    \"\"\"\n",
    "    if n < 1:\n",
    "        raise ValueError\n",
    "    result = -1\n",
    "    while n > 0:\n",
    "        n >>= 1\n",
    "        result += 1\n",
    "    return result"
   ]
  },
  {
   "cell_type": "markdown",
   "metadata": {},
   "source": [
    "Python's math.log2 is slightly faster."
   ]
  },
  {
   "cell_type": "code",
   "execution_count": null,
   "metadata": {},
   "outputs": [],
   "source": [
    "#collapse\n",
    "import math\n",
    "def mlog2(n: int) -> int:\n",
    "    \"\"\"\n",
    "    :param n: an integer >= 0\n",
    "    :return: (number of binary digits of n) - 1\n",
    "    \"\"\"\n",
    "    return int(math.log2(n))"
   ]
  },
  {
   "cell_type": "code",
   "execution_count": null,
   "metadata": {},
   "outputs": [
    {
     "name": "stdout",
     "output_type": "stream",
     "text": [
      "log2  | 0.03925049999998009\n",
      "mlog2 | 0.03399940000008428\n"
     ]
    }
   ],
   "source": [
    "for lg in (log2, mlog2):\n",
    "    print(f\"{lg.__qualname__ :<6}| {timeit(test_log2(lg), number=1000)}\")"
   ]
  },
  {
   "cell_type": "markdown",
   "metadata": {},
   "source": [
    "Write a function `gcd(a: int, b: int) -> int` which returns the greatest common divisor of a and b.\n",
    "How do you deal with negative or zero arguments?"
   ]
  },
  {
   "cell_type": "code",
   "execution_count": null,
   "metadata": {},
   "outputs": [],
   "source": [
    "def test_gcd(g):\n",
    "    def aux():\n",
    "        test_eq(g(0, 0), 0)\n",
    "        test_eq(g(7, 0), 7)\n",
    "        test_eq(g(0, 7), 7)\n",
    "        test_eq(g(20, 14), 2)\n",
    "    return aux"
   ]
  },
  {
   "cell_type": "code",
   "execution_count": null,
   "metadata": {},
   "outputs": [],
   "source": [
    "#collapse\n",
    "def gcd(a: int, b: int) -> int:\n",
    "    \"\"\"\n",
    "    :param a: integer\n",
    "    :param b: integer\n",
    "    :return: greatest common divisor of a and b\n",
    "    \"\"\"\n",
    "    while b != 0:\n",
    "        a, b = b, a % b\n",
    "    return a"
   ]
  },
  {
   "cell_type": "markdown",
   "metadata": {},
   "source": [
    "Write a recursive function `gcd1(a: int, b: int) -> int` which returns the greatest common divisor of a and b. How deep is the call stack?"
   ]
  },
  {
   "cell_type": "code",
   "execution_count": null,
   "metadata": {},
   "outputs": [],
   "source": [
    "#collapse\n",
    "def gcd1(a: int, b: int) -> int:\n",
    "    \"\"\"\n",
    "    :param a: integer\n",
    "    :param b: integer\n",
    "    :return: greatest common divisor of a and b\n",
    "    \"\"\"\n",
    "    return a if b == 0 else gcd1(b, a % b)"
   ]
  },
  {
   "cell_type": "code",
   "execution_count": null,
   "metadata": {},
   "outputs": [
    {
     "name": "stdout",
     "output_type": "stream",
     "text": [
      "gcd   | 0.04068090000009761\n",
      "gcd1  | 0.03507760000002236\n"
     ]
    }
   ],
   "source": [
    "for g in (gcd, gcd1):\n",
    "    print(f\"{g.__qualname__ :<6}| {timeit(test_gcd(g), number=1000)}\")"
   ]
  },
  {
   "cell_type": "markdown",
   "metadata": {},
   "source": [
    "We consider half-open intervals such as u = [a, b) given as a tuple `(a, b)`.\n",
    "Write a function `intersection(u: (int, int), v: (int, int)) -> (int, int)`\n",
    "which returns the intersection of the intervals `u` and `v`. Hint: This is a one-liner. No if, no else.\n",
    "Question: How do you manage the empty interval?"
   ]
  },
  {
   "cell_type": "code",
   "execution_count": null,
   "metadata": {},
   "outputs": [],
   "source": [
    "def test_intersection():\n",
    "    test_eq(intersection((0, 8), (4, 10)), (4, 8))\n",
    "    test_eq(intersection((0, 8), (8, 10)), (8, 8))    # empty interval\n",
    "    test_eq(intersection((0, 8), (9, 10)), (9, 8))    # empty interval\n",
    "    test_eq(intersection((0, 10), (4, 8)), (4, 8))"
   ]
  },
  {
   "cell_type": "code",
   "execution_count": null,
   "metadata": {},
   "outputs": [],
   "source": [
    "#collapse\n",
    "def intersection(u: (int, int), v: (int, int)) -> (int, int):\n",
    "    \"\"\"\n",
    "    :param u: half open interval (u0, u1)\n",
    "    :param v: half open interval (v0, v1)\n",
    "    :return: intersection of u and v\n",
    "    \"\"\"\n",
    "    return max(u[0], v[0]), min(u[1], v[1])"
   ]
  },
  {
   "cell_type": "markdown",
   "metadata": {},
   "source": [
    "Our choice for the emtpy interval: An interval is empty if lower bound $\\geq$ upper bound. This makes our program so simple."
   ]
  },
  {
   "cell_type": "code",
   "execution_count": null,
   "metadata": {},
   "outputs": [
    {
     "data": {
      "text/plain": [
       "0.103351499999917"
      ]
     },
     "execution_count": null,
     "metadata": {},
     "output_type": "execute_result"
    }
   ],
   "source": [
    "timeit(test_intersection, number=1000)"
   ]
  },
  {
   "cell_type": "markdown",
   "metadata": {},
   "source": [
    "## Faculty"
   ]
  },
  {
   "cell_type": "markdown",
   "metadata": {},
   "source": [
    "Write a non-recursive function `faculty(n: int) -> int` which returns n!."
   ]
  },
  {
   "cell_type": "code",
   "execution_count": null,
   "metadata": {},
   "outputs": [],
   "source": [
    "def test_faculty(f):\n",
    "    def aux():\n",
    "        test_eq(f(0), 1)\n",
    "        test_eq(f(1), 1)\n",
    "        test_eq(f(2), 2)\n",
    "        test_eq(f(8), 40320)\n",
    "    return aux"
   ]
  },
  {
   "cell_type": "code",
   "execution_count": null,
   "metadata": {},
   "outputs": [],
   "source": [
    "#collapse\n",
    "def faculty(n: int) -> int:\n",
    "    \"\"\"\n",
    "    :param n: integer\n",
    "    :return:  nth-faculty\n",
    "    \"\"\"\n",
    "    if n < 0:\n",
    "        raise ValueError\n",
    "    else:\n",
    "        result = 1\n",
    "        for i in range(1, n + 1):\n",
    "            result *= i\n",
    "        return result\n"
   ]
  },
  {
   "cell_type": "markdown",
   "metadata": {},
   "source": [
    "We write a recursive function `faculty1(n: int) -> int` which returns n!. How deep is the call stack?"
   ]
  },
  {
   "cell_type": "code",
   "execution_count": null,
   "metadata": {},
   "outputs": [],
   "source": [
    "#collapse\n",
    "def faculty1(n: int) -> int:\n",
    "    \"\"\"\n",
    "    :param n: integer\n",
    "    :return:  nth-faculty\n",
    "    \"\"\"\n",
    "    if n < 0:\n",
    "        raise ValueError\n",
    "    elif n <= 1:\n",
    "        return 1\n",
    "    else:\n",
    "        return n * faculty1(n - 1)"
   ]
  },
  {
   "cell_type": "code",
   "execution_count": null,
   "metadata": {},
   "outputs": [
    {
     "name": "stdout",
     "output_type": "stream",
     "text": [
      "faculty  | 0.03884200000038618\n",
      "faculty1 | 0.03788100000019767\n"
     ]
    }
   ],
   "source": [
    "for f in (faculty, faculty1):\n",
    "    print(f\"{f.__qualname__ :<9}| {timeit(test_faculty(f), number=1000)}\")"
   ]
  },
  {
   "cell_type": "markdown",
   "metadata": {},
   "source": [
    "The call stack is $O(n)$. This is no problem because $n!$ can only be computed for small $n$."
   ]
  },
  {
   "cell_type": "markdown",
   "metadata": {},
   "source": [
    "## Fibonacci"
   ]
  },
  {
   "cell_type": "markdown",
   "metadata": {},
   "source": [
    "Write a function `fibo(n: int) -> int` which returns the n-th fibonacci number"
   ]
  },
  {
   "cell_type": "code",
   "execution_count": null,
   "metadata": {},
   "outputs": [],
   "source": [
    "def test_fibo(f):\n",
    "    def aux():\n",
    "        test_eq(f(0), 0)\n",
    "        test_eq(f(1), 1)\n",
    "        test_eq(f(2), 1)\n",
    "        test_eq(f(20), 6765)\n",
    "    return aux"
   ]
  },
  {
   "cell_type": "code",
   "execution_count": null,
   "metadata": {},
   "outputs": [],
   "source": [
    "#collapse\n",
    "def fibo(n: int) -> int:\n",
    "    \"\"\"\n",
    "    :param n: integer >= 0\n",
    "    :return: n-th Fibonacci number\n",
    "    \"\"\"\n",
    "    if n < 0:\n",
    "        raise ValueError\n",
    "    elif n == 0:\n",
    "        return 0\n",
    "    else:\n",
    "        a, b = 0, 1\n",
    "        for _ in range(2, n + 1):\n",
    "            a, b = b, a + b\n",
    "        return b"
   ]
  },
  {
   "cell_type": "markdown",
   "metadata": {},
   "source": [
    "Write a recursive function `fibo(n: int) -> int` which returns the n-th fibonacci number. How deep is the call stack?"
   ]
  },
  {
   "cell_type": "code",
   "execution_count": null,
   "metadata": {},
   "outputs": [],
   "source": [
    "#collapse\n",
    "def fibo1(n: int) -> int:\n",
    "    \"\"\"\n",
    "    :param n: integer >= 0\n",
    "    :return: n-th Fibonacci number\n",
    "    \"\"\"\n",
    "    # recursive programming, cool but slow\n",
    "    if n < 0:\n",
    "        raise ValueError\n",
    "    elif n <= 1:\n",
    "        return n\n",
    "    else:\n",
    "        return fibo1(n - 2) + fibo1(n - 1)"
   ]
  },
  {
   "cell_type": "code",
   "execution_count": null,
   "metadata": {},
   "outputs": [
    {
     "name": "stdout",
     "output_type": "stream",
     "text": [
      "fibo  | 0.0035622999994302518\n",
      "fibo1 | 0.2929365999998481\n"
     ]
    }
   ],
   "source": [
    "for f in (fibo, fibo1):\n",
    "    print(f\"{f.__qualname__ :<6}| {timeit(test_fibo(f), number=100)}\")"
   ]
  },
  {
   "cell_type": "markdown",
   "metadata": {},
   "source": [
    "## Reversing Lists"
   ]
  },
  {
   "cell_type": "markdown",
   "metadata": {},
   "source": [
    "Write a non-recursive function `reverse(xs: list) -> None` which reverses the list `xs` in place."
   ]
  },
  {
   "cell_type": "code",
   "execution_count": null,
   "metadata": {},
   "outputs": [],
   "source": [
    "from random import randrange\n",
    "\n",
    "def test_reverse_in_place(r):\n",
    "    def aux():\n",
    "        xs, ys = [], []\n",
    "        r(xs)\n",
    "        test_eq(xs, ys)\n",
    "\n",
    "        xs, ys = [1], [1]\n",
    "        r(xs)\n",
    "        test_eq(xs, ys)\n",
    "\n",
    "        xs, ys = [1, 2], [2, 1]\n",
    "        r(xs)\n",
    "        test_eq(xs, ys)\n",
    "\n",
    "        xs, ys = [1, 2, 3, 4], [4, 3, 2, 1]\n",
    "        r(xs)\n",
    "        test_eq(xs, ys)\n",
    "\n",
    "        xs = [randrange(100) for _ in range(1000)]\n",
    "        ys = xs.copy()\n",
    "        r(xs)\n",
    "        r(xs)\n",
    "        test_eq(xs, ys)\n",
    "    return aux"
   ]
  },
  {
   "cell_type": "markdown",
   "metadata": {},
   "source": [
    "A few comments on the last testcase: `xs` is a list of a thousand random integers between 0 and 99.\n",
    "This testcase documents the fact that reversing a list twice restores the original list: reverse equals its inverse. \n",
    "Note that `ys` is a copy of `xs`, rather than an alias. "
   ]
  },
  {
   "cell_type": "code",
   "execution_count": null,
   "metadata": {},
   "outputs": [],
   "source": [
    "#collapse\n",
    "def reverse(xs: list) -> None:\n",
    "    \"\"\"\n",
    "    :param xs: a list\n",
    "    :return: None\n",
    "    Side effect: This function reverses the order of xs\n",
    "    \"\"\"\n",
    "    m = len(xs) // 2\n",
    "    for i in range(m):\n",
    "        xs[i], xs[-1 - i] = xs[-1 - i], xs[i]"
   ]
  },
  {
   "cell_type": "code",
   "execution_count": null,
   "metadata": {},
   "outputs": [
    {
     "name": "stdout",
     "output_type": "stream",
     "text": [
      "reverse      | 0.09573900000032154\n",
      "list.reverse | 0.0831092999997054\n"
     ]
    }
   ],
   "source": [
    " for r in (reverse, list.reverse):\n",
    "    print(f\"{r.__qualname__ :<13}| {timeit(test_reverse_in_place(r), number=10)}\")"
   ]
  },
  {
   "cell_type": "markdown",
   "metadata": {},
   "source": [
    "Write a recursive function `reverse1(xs: list) -> list` which returns the list `xs`in reversed order. How deep is the call stack?"
   ]
  },
  {
   "cell_type": "code",
   "execution_count": null,
   "metadata": {},
   "outputs": [],
   "source": [
    "def test_reverse():\n",
    "    test_eq(reverse1([]), [])\n",
    "    test_eq(reverse1([1]), [1])\n",
    "    test_eq(reverse1([1, 2]), [2, 1])\n",
    "    test_eq(reverse1([1, 2, 3, 4]), [4, 3, 2, 1])\n",
    "    \n",
    "    xs = [randrange(100) for _ in range(1000)]\n",
    "    ys = xs.copy()\n",
    "    test_eq(reverse1(reverse1(xs)), ys)"
   ]
  },
  {
   "cell_type": "code",
   "execution_count": null,
   "metadata": {},
   "outputs": [],
   "source": [
    "#collapse\n",
    "def reverse1(xs: list) -> list:\n",
    "    \"\"\"\n",
    "    :param xs: a list\n",
    "    :return: a new list containing xs in reversed order\n",
    "    same as reverse0, recursive solution\n",
    "    This produces O(n) new lists!\n",
    "    \"\"\"\n",
    "    return xs.copy() if len(xs) <= 1 else [xs[-1]] + reverse1(xs[1: -1]) + [xs[0]]"
   ]
  },
  {
   "cell_type": "code",
   "execution_count": null,
   "metadata": {},
   "outputs": [
    {
     "data": {
      "text/plain": [
       "0.144225699999879"
      ]
     },
     "execution_count": null,
     "metadata": {},
     "output_type": "execute_result"
    }
   ],
   "source": [
    "timeit(test_reverse, number=10)"
   ]
  },
  {
   "cell_type": "markdown",
   "metadata": {},
   "source": [
    "## Palindromes"
   ]
  },
  {
   "cell_type": "markdown",
   "metadata": {},
   "source": [
    "Write a function `normstring(s: str) -> str` which removes all non-letter characters and converts the string to lowercase."
   ]
  },
  {
   "cell_type": "code",
   "execution_count": null,
   "metadata": {},
   "outputs": [],
   "source": [
    "#collapse\n",
    "def normstring(s: str) -> str:\n",
    "    \"\"\"\n",
    "    :param s: a string\n",
    "    :return: keeps ascii letters only and converts s to lower case\n",
    "    \"\"\"\n",
    "    import string\n",
    "    result = ''\n",
    "    for c in s:\n",
    "        if c in string.ascii_letters:\n",
    "            result += str.lower(c)\n",
    "    return result"
   ]
  },
  {
   "cell_type": "markdown",
   "metadata": {},
   "source": [
    "Write a non-recursive function `palindrome1(s: str) -> bool` which returns true iff the string s is a palindrome. Hint: use `normstring` but not `reverse`."
   ]
  },
  {
   "cell_type": "code",
   "execution_count": null,
   "metadata": {},
   "outputs": [],
   "source": [
    "def test_palindrome(p):\n",
    "    def aux():\n",
    "        test_eq(p(\"\"), True)\n",
    "        test_eq(p(\"x\"), True)\n",
    "        test_eq(p(\"xx\"), True)\n",
    "        test_eq(p(\"xy\"), False)\n",
    "        test_eq(p(\"Reittier\"), True)\n",
    "        test_eq(p(\"Reliefpfeiler\"), True)\n",
    "        test_eq(p(\"Risotto, Sir?\"), True)\n",
    "        test_eq(p(\"Madam, I'm Adam\"), True)\n",
    "        test_eq(p(\"Liese, tu Gutes, eil!\"), True)\n",
    "        test_eq(p(\"Grub Nero nie in Orenburg?\"), True)\n",
    "        test_eq(p(\"O Genie, der Herr ehre dein Ego!\"), True)\n",
    "        test_eq(p(\"Lewd I did live, & evil did I dwel?\"), True)\n",
    "        test_eq(p(\"Eine treue Familie bei Lima feuerte nie\"), True)\n",
    "        test_eq(p(\"Mad Zeus, no live devil, lived evil on Suez dam\"), True)\n",
    "        test_eq(p(\"Straw? No, too stupid a fad. I put soot on warts.\"), True)\n",
    "    return aux"
   ]
  },
  {
   "cell_type": "code",
   "execution_count": null,
   "metadata": {},
   "outputs": [],
   "source": [
    "#collapse\n",
    "def palindrome(xs: str) -> bool:\n",
    "    \"\"\"\n",
    "    :param xs: string\n",
    "    :return: true if xs is a palindrome\n",
    "    \"\"\"\n",
    "    ys = normstring(xs)\n",
    "    m = len(ys) // 2\n",
    "    for i in range(m):\n",
    "        if ys[i] != ys[-1 - i]:\n",
    "            return False\n",
    "    return True"
   ]
  },
  {
   "cell_type": "markdown",
   "metadata": {},
   "source": [
    "Write a non-recursive function `palindrome1(s: str) -> bool` which returns true iff the string s is a palindrome.\n",
    "Hint: use `normstring` and `reverse`."
   ]
  },
  {
   "cell_type": "code",
   "execution_count": null,
   "metadata": {},
   "outputs": [],
   "source": [
    "#collapse\n",
    "def palindrome1(xs: str) -> bool:\n",
    "    \"\"\"\n",
    "    :param xs: string\n",
    "    :return: true if xs is a palindrome\n",
    "    using Python's reverse which only works on lists\n",
    "    \"\"\"\n",
    "    ys = list(normstring(xs))\n",
    "    zs = list(ys)\n",
    "    zs.reverse()\n",
    "    return ys == zs"
   ]
  },
  {
   "cell_type": "markdown",
   "metadata": {},
   "source": [
    "Write a recursive function `palindrome(s: str) -> bool` which returns true iff the string s is a palindrome.\n",
    "Hint: use `normstring` but not `reverse`."
   ]
  },
  {
   "cell_type": "code",
   "execution_count": null,
   "metadata": {},
   "outputs": [],
   "source": [
    "#collapse\n",
    "def palindrome2(xs: str) -> bool:\n",
    "    \"\"\"\n",
    "    :param xs: string\n",
    "    :return: true if xs is a palindrome\n",
    "    recursive solution, normstring only called once\n",
    "    \"\"\"\n",
    "\n",
    "    def pal(ys):\n",
    "        return True if len(ys) <= 1 else ys[0] == ys[-1] and pal(ys[1:-1])\n",
    "\n",
    "    return pal(normstring(xs))"
   ]
  },
  {
   "cell_type": "markdown",
   "metadata": {},
   "source": [
    "Here, `pal`, the function which does the work, is internal to `palindrome2`. So, `normstring` is called only once."
   ]
  },
  {
   "cell_type": "code",
   "execution_count": null,
   "metadata": {},
   "outputs": [
    {
     "name": "stdout",
     "output_type": "stream",
     "text": [
      "palindrome  | 0.022269000000051165\n",
      "palindrome1 | 0.021730200000092736\n",
      "palindrome2 | 0.025321099999928265\n"
     ]
    }
   ],
   "source": [
    "for p in (palindrome, palindrome1, palindrome2):\n",
    "    print(f\"{p.__qualname__ :<12}| {timeit(test_palindrome(p), number=100)}\")"
   ]
  },
  {
   "cell_type": "markdown",
   "metadata": {},
   "source": [
    "## Roman Numbers"
   ]
  },
  {
   "cell_type": "markdown",
   "metadata": {},
   "source": [
    "Write a function `romans() -> List[str]` which returns the list of all roman numbers from 1 to 4999, the element at zero being \" \"."
   ]
  },
  {
   "cell_type": "code",
   "execution_count": null,
   "metadata": {},
   "outputs": [],
   "source": [
    "def test_romans(r):\n",
    "    def aux():\n",
    "        rs = r()\n",
    "        test_eq(len(rs), 5000)\n",
    "        test_eq(rs[0], '')\n",
    "        test_eq(rs[1], 'I')\n",
    "        test_eq(rs[9], 'IX')\n",
    "        test_eq(rs[4999], 'MMMMCMXCIX' )\n",
    "    return aux"
   ]
  },
  {
   "cell_type": "code",
   "execution_count": null,
   "metadata": {},
   "outputs": [],
   "source": [
    "#collapse\n",
    "from typing import List\n",
    "\n",
    "def romans() -> List[str]:\n",
    "    \"\"\"\n",
    "    :return: romans numbers from 1 to 4999\n",
    "    \"\"\"\n",
    "    digits0 = ['', 'M', 'MM', 'MMM', 'MMMM']\n",
    "    digits1 = ['', 'C', 'CC', 'CCC', 'CD', 'D', 'DC', 'DCC', 'DCCC', 'CM']\n",
    "    digits2 = ['', 'X', 'XX', 'XXX', 'XL', 'L', 'LX', 'LXX', 'LXXX', 'XC']\n",
    "    digits3 = ['', 'I', 'II', 'III', 'IV', 'V', 'VI', 'VII', 'VIII', 'IX']\n",
    "   \n",
    "    result = []\n",
    "    for d0 in digits0:\n",
    "        for d1 in digits1:\n",
    "            for d2 in digits2:\n",
    "                for d3 in digits3:\n",
    "                    result.append(d0 + d1 + d2 + d3)\n",
    "    return result"
   ]
  },
  {
   "cell_type": "markdown",
   "metadata": {},
   "source": [
    "The following implementation is slightly more elegant. It is the starting point of the conjoin pattern (see xxx). This pattern is helpful if you don't know the number of nested loops and when the loop criteria depend on the state stored in a single variable, here `number`. "
   ]
  },
  {
   "cell_type": "code",
   "execution_count": null,
   "metadata": {},
   "outputs": [],
   "source": [
    "#collapse\n",
    "from typing import List\n",
    "\n",
    "def romans1() -> List[str]:\n",
    "    \"\"\"\n",
    "    :return: romans numbers from 1 to 4999\n",
    "    \"\"\"\n",
    "    digits0 = ['', 'M', 'MM', 'MMM', 'MMMM']\n",
    "    digits1 = ['', 'C', 'CC', 'CCC', 'CD', 'D', 'DC', 'DCC', 'DCCC', 'CM']\n",
    "    digits2 = ['', 'X', 'XX', 'XXX', 'XL', 'L', 'LX', 'LXX', 'LXXX', 'XC']\n",
    "    digits3 = ['', 'I', 'II', 'III', 'IV', 'V', 'VI', 'VII', 'VIII', 'IX']\n",
    "   \n",
    "    result = []\n",
    "    number = 4 * [None]\n",
    "    for number[0] in digits0:\n",
    "        for number[1] in digits1:\n",
    "            for number[2] in digits2:\n",
    "                for number[3] in digits3:\n",
    "                    result.append(''.join(number))\n",
    "    return result"
   ]
  },
  {
   "cell_type": "code",
   "execution_count": null,
   "metadata": {},
   "outputs": [
    {
     "name": "stdout",
     "output_type": "stream",
     "text": [
      "romans  | 0.10284279999996215\n",
      "romans1 | 0.08801719999974011\n"
     ]
    }
   ],
   "source": [
    "for r in (romans, romans1):\n",
    "    print(f\"{r.__qualname__ :<8}| {timeit(test_romans(r), number=100)}\")"
   ]
  },
  {
   "cell_type": "markdown",
   "metadata": {},
   "source": [
    "## Pascal's Triangle"
   ]
  },
  {
   "cell_type": "markdown",
   "metadata": {},
   "source": [
    "Write a non-recursive function `bico(n: int) -> List[int]` which returns the binomial coefficients of $(a + b)^n$"
   ]
  },
  {
   "cell_type": "code",
   "execution_count": null,
   "metadata": {},
   "outputs": [],
   "source": [
    "def test_bico(*implementations):\n",
    "    for b in implementations:\n",
    "        test_eq(b(0), [1])\n",
    "        test_eq(b(1), [1, 1])\n",
    "        test_eq(b(2), [1, 2, 1])\n",
    "        test_eq(b(5), [1, 5, 10, 10, 5, 1])"
   ]
  },
  {
   "cell_type": "code",
   "execution_count": null,
   "metadata": {},
   "outputs": [],
   "source": [
    "#collapse\n",
    "def bico(n: int) -> List[int]:\n",
    "    \"\"\"\n",
    "    :param n: an integer >= 0\n",
    "    :return: coefficients of (a + b) ** n\n",
    "    \"\"\"\n",
    "    triangle = [[1]]  # that's all for n = 0\n",
    "    for k in range(1, n + 1):\n",
    "        triangle.append([1])  # append a new line starting with 1\n",
    "        for i in range(k - 1):  # apply the rule for computing the pascal triangle\n",
    "            triangle[k].append(triangle[k - 1][i] + triangle[k - 1][i + 1])\n",
    "        triangle[k].append(1)  # append final 1\n",
    "\n",
    "    return triangle[n]  # return last line"
   ]
  },
  {
   "cell_type": "markdown",
   "metadata": {},
   "source": [
    "Write a recursive function `bico(n: int) -> List[int]` which returns the binomial coefficients of $(a + b)^n$. How deep is the call stack?"
   ]
  },
  {
   "cell_type": "code",
   "execution_count": null,
   "metadata": {},
   "outputs": [],
   "source": [
    "#collapse\n",
    "def bico1(n: int) -> List[int]:\n",
    "    \"\"\"\n",
    "    :param n: an integer >= 0\n",
    "    :return: coefficients of (a + b) ** n\n",
    "    recursive implementation\n",
    "    \"\"\"\n",
    "    if n == 0:\n",
    "        return [1]\n",
    "\n",
    "    else:\n",
    "        previous_line = bico1(n - 1)\n",
    "        this_line = [1]  # set first coefficient = 1\n",
    "        for i in range(n - 1):  # apply the rule for computing the pascal triangle\n",
    "            this_line.append(previous_line[i] + previous_line[i + 1])\n",
    "        this_line.append(1)  # append last coefficient = 1\n",
    "\n",
    "    return this_line"
   ]
  },
  {
   "cell_type": "code",
   "execution_count": null,
   "metadata": {},
   "outputs": [],
   "source": [
    "test_bico(bico, bico1)"
   ]
  },
  {
   "cell_type": "markdown",
   "metadata": {},
   "source": [
    "## Things to Remember"
   ]
  },
  {
   "cell_type": "markdown",
   "metadata": {},
   "source": [
    "### Testing Counts"
   ]
  },
  {
   "cell_type": "markdown",
   "metadata": {},
   "source": [
    "Testing has at least three benefits:\n",
    "- Understanding: The programmer gets a clear image of what the program is supposed to do. \n",
    "- Definition of Done: You are done when the all testcases succeed.\n",
    "- Documentation: Testcases document univocally what the function does.\n",
    "\n",
    "We always start with trivial testcases: None, zero, one, two, the empty list, a list with one element.\n",
    "Testcases evolve in time. \n",
    "\n"
   ]
  },
  {
   "cell_type": "code",
   "execution_count": null,
   "metadata": {},
   "outputs": [],
   "source": []
  }
 ],
 "metadata": {
  "kernelspec": {
   "display_name": "Python 3",
   "language": "python",
   "name": "python3"
  }
 },
 "nbformat": 4,
 "nbformat_minor": 1
}
