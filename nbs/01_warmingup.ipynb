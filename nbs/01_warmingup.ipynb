{
 "cells": [
  {
   "cell_type": "markdown",
   "metadata": {},
   "source": [
    "# Warming Up\n",
    "\n",
    "> Easy and not so easy exercises"
   ]
  },
  {
   "cell_type": "code",
   "execution_count": null,
   "metadata": {},
   "outputs": [],
   "source": [
    "# uncomment this to install nbdev\n",
    "# !pip install nbdev\n",
    "    \n",
    "from timeit import timeit\n",
    "from fastcore.test import test_eq\n",
    "from typing import Any, Callable, List, NewType, Tuple"
   ]
  },
  {
   "cell_type": "markdown",
   "metadata": {},
   "source": [
    "\n",
    "The utility function `run` runs the testees given by `fs` against `test`, and that `n` times.\n",
    "It is called once for each exercise and tests all alternative implementations.\n",
    "It should silently go through, returning only the execution times for each testee.\n",
    "The number `n` is generally chosen such that waiting times are around one second or below.\n",
    "\n",
    "We use fastai's test library.\n",
    "\n",
    "XXXXXXXXXXXXXXXXX"
   ]
  },
  {
   "cell_type": "code",
   "execution_count": null,
   "metadata": {},
   "outputs": [],
   "source": [
    "def run(test, n, *fs):\n",
    "    \"\"\"\n",
    "    :param test: a testdriver\n",
    "    :n: number of repetitions\n",
    "    :fs: the testees \n",
    "    :return: None\n",
    "    \"\"\"\n",
    "    for f in fs:\n",
    "        print(f\"{f.__qualname__:<12} | {timeit(lambda: test(f), number=n):.4f}\")"
   ]
  },
  {
   "cell_type": "markdown",
   "metadata": {},
   "source": [
    "### Two Very Short Functions Using Logarithms"
   ]
  },
  {
   "cell_type": "markdown",
   "metadata": {},
   "source": [
    "Problem 01: Write a function `power_of2(n: int) -> bool` which returns true iff n is a power of 2.\n",
    "The following test defines what `power_of2`is supposed to do."
   ]
  },
  {
   "cell_type": "code",
   "execution_count": null,
   "metadata": {},
   "outputs": [],
   "source": [
    "def test_01(f: Callable[[int], bool]):\n",
    "    test_eq(f(0), True)\n",
    "    test_eq(f(1), True)\n",
    "    test_eq(f(7), False)\n",
    "    test_eq(f(8), True)\n",
    "    test_eq(f(2**30), True)\n",
    "    test_eq(f(2**30 + 1), False)"
   ]
  },
  {
   "cell_type": "markdown",
   "metadata": {},
   "source": [
    "Idea: A power of 2, say 8, is a 1 followed by 0s: 0b1000. Subtracting 1 changes the leading 1 to 0 and the 0s to 1: 8 - 1 = 7 = 0b111.\n",
    "So, a bitwise AND of n and n - 1 should do. No log, no exp."
   ]
  },
  {
   "cell_type": "code",
   "execution_count": null,
   "metadata": {},
   "outputs": [],
   "source": [
    "#collapse\n",
    "def power_of2(n: int) -> bool:\n",
    "    \"\"\"\n",
    "    :param n: an integer > = 1\n",
    "    :return: true if n is a power of two\n",
    "    \"\"\"\n",
    "    return not n & (n - 1)"
   ]
  },
  {
   "cell_type": "code",
   "execution_count": null,
   "metadata": {},
   "outputs": [
    {
     "name": "stdout",
     "output_type": "stream",
     "text": [
      "power_of2    | 0.0771\n"
     ]
    }
   ],
   "source": [
    "run(test_01, 1000,  power_of2)"
   ]
  },
  {
   "cell_type": "markdown",
   "metadata": {},
   "source": [
    "Problem 02: Write a function `log2(n: int) -> int` which returns the number of binary digits of n minus 1."
   ]
  },
  {
   "cell_type": "code",
   "execution_count": null,
   "metadata": {},
   "outputs": [],
   "source": [
    "def test_02(f: Callable[[int], int]) -> None:\n",
    "    test_eq(f(1), 0)\n",
    "    test_eq(f(2), 1)\n",
    "    test_eq(f(7), 2)\n",
    "    test_eq(f(8), 3)\n",
    "    test_eq(f(2**30), 30)"
   ]
  },
  {
   "cell_type": "markdown",
   "metadata": {},
   "source": [
    "Idea: Shift `n` bitwise right while `n > 0` "
   ]
  },
  {
   "cell_type": "code",
   "execution_count": null,
   "metadata": {},
   "outputs": [],
   "source": [
    "#collapse\n",
    "def log2(n: int) -> int:\n",
    "    \"\"\"\n",
    "    :param n: an integer >= 0\n",
    "    :return: (number of binary digits of n) - 1\n",
    "    \"\"\"\n",
    "    if n < 1:\n",
    "        raise ValueError\n",
    "    result = -1\n",
    "    while n > 0:\n",
    "        n >>= 1\n",
    "        result += 1\n",
    "    return result"
   ]
  },
  {
   "cell_type": "markdown",
   "metadata": {},
   "source": [
    "Python's math.log2 is slightly faster."
   ]
  },
  {
   "cell_type": "code",
   "execution_count": null,
   "metadata": {},
   "outputs": [],
   "source": [
    "#collapse\n",
    "import math\n",
    "def mlog2(n: int) -> int:\n",
    "    \"\"\"\n",
    "    :param n: an integer >= 0\n",
    "    :return: (number of binary digits of n) - 1\n",
    "    \"\"\"\n",
    "    return int(math.log2(n))"
   ]
  },
  {
   "cell_type": "code",
   "execution_count": null,
   "metadata": {},
   "outputs": [
    {
     "name": "stdout",
     "output_type": "stream",
     "text": [
      "log2         | 0.0625\n",
      "mlog2        | 0.0684\n"
     ]
    }
   ],
   "source": [
    "run(test_02, 1000,  log2, mlog2)"
   ]
  },
  {
   "cell_type": "markdown",
   "metadata": {},
   "source": [
    "### Greatest Common Divisor (GCD)"
   ]
  },
  {
   "cell_type": "markdown",
   "metadata": {},
   "source": [
    "Problem 03: Write a function `gcd(a: int, b: int) -> int` which returns the greatest common divisor of a and b."
   ]
  },
  {
   "cell_type": "code",
   "execution_count": null,
   "metadata": {},
   "outputs": [],
   "source": [
    "def test_03(f: Callable[[int, int], int]) -> None:\n",
    "    test_eq(f(0, 0), 0)\n",
    "    test_eq(f(7, 0), 7)\n",
    "    test_eq(f(-7, 0), -7)\n",
    "    test_eq(f(0, 7), 7)\n",
    "    test_eq(f(0, -7), -7)\n",
    "    test_eq(f(20, 14), 2)\n",
    "    a = 2 * 3 * 5 * 7 * 11 * 13 * 17\n",
    "    b =                 11 * 13 * 17 * 19 * 23 * 29 * 31\n",
    "    test_eq(f(a, b), 11 * 13 * 17)"
   ]
  },
  {
   "cell_type": "markdown",
   "metadata": {},
   "source": [
    "We apply the Euclidean algorithm: compute the remainder c of a and b, replace a with b and b with c."
   ]
  },
  {
   "cell_type": "code",
   "execution_count": null,
   "metadata": {},
   "outputs": [],
   "source": [
    "#collapse\n",
    "def gcd(a: int, b: int) -> int:\n",
    "    \"\"\"\n",
    "    :param a: integer\n",
    "    :param b: integer\n",
    "    :return: greatest common divisor of a and b\n",
    "    \"\"\"\n",
    "    while b != 0:\n",
    "        a, b = b, a % b\n",
    "    return a"
   ]
  },
  {
   "cell_type": "markdown",
   "metadata": {},
   "source": [
    "The recursive solution is more elegant and slightly faster."
   ]
  },
  {
   "cell_type": "code",
   "execution_count": null,
   "metadata": {},
   "outputs": [],
   "source": [
    "#collapse\n",
    "def gcd1(a: int, b: int) -> int:\n",
    "    \"\"\"\n",
    "    :param a: integer\n",
    "    :param b: integer\n",
    "    :return: greatest common divisor of a and b\n",
    "    \"\"\"\n",
    "    return a if b == 0 else gcd1(b, a % b)"
   ]
  },
  {
   "cell_type": "code",
   "execution_count": null,
   "metadata": {},
   "outputs": [
    {
     "name": "stdout",
     "output_type": "stream",
     "text": [
      "gcd          | 0.0878\n",
      "gcd1         | 0.0880\n"
     ]
    }
   ],
   "source": [
    "run(test_03, 1000, gcd, gcd1)"
   ]
  },
  {
   "cell_type": "markdown",
   "metadata": {},
   "source": [
    "### Intersection of Intervals"
   ]
  },
  {
   "cell_type": "markdown",
   "metadata": {},
   "source": [
    "We consider half-open intervals such as u = [a, b) given as a tuple `(a, b)`.\n",
    "\n",
    "Problem 04: Write a function `intersection(u: (int, int), v: (int, int)) -> (int, int)`\n",
    "which returns the intersection `u` and `v`. Hint: This is a one-liner, no ifs, no elses.\n",
    "Main question: How do you manage the empty interval?\n",
    "Our choice: An interval is empty iff lower bound $\\geq$ upper bound, so (0, -1), (0, 0), (3, 2) all represent the same and unique empty interval. This makes our program so simple."
   ]
  },
  {
   "cell_type": "code",
   "execution_count": null,
   "metadata": {},
   "outputs": [],
   "source": [
    "# we introduce a new type\n",
    "Interval = NewType('Interval', Tuple[int, int])\n",
    "\n",
    "def test_04(f: Callable[[Interval, Interval], Interval]) -> None:\n",
    "    test_eq(f((0, 8), (4, 10)), (4, 8))\n",
    "    test_eq(f((0, 8), (8, 10)), (8, 8))    # empty interval\n",
    "    test_eq(f((0, 8), (9, 10)), (9, 8))    # empty interval\n",
    "    test_eq(f((0, 10), (4, 8)), (4, 8))"
   ]
  },
  {
   "cell_type": "code",
   "execution_count": null,
   "metadata": {},
   "outputs": [],
   "source": [
    "#collapse\n",
    "def intersection(u: (int, int), v: (int, int)) -> (int, int):\n",
    "    \"\"\"\n",
    "    :param u: half open interval (u0, u1)\n",
    "    :param v: half open interval (v0, v1)\n",
    "    :return: intersection of u and v\n",
    "    \"\"\"\n",
    "    return max(u[0], v[0]), min(u[1], v[1])"
   ]
  },
  {
   "cell_type": "code",
   "execution_count": null,
   "metadata": {},
   "outputs": [
    {
     "name": "stdout",
     "output_type": "stream",
     "text": [
      "intersection | 0.1444\n"
     ]
    }
   ],
   "source": [
    "run(test_04, 1000,  intersection)"
   ]
  },
  {
   "cell_type": "markdown",
   "metadata": {},
   "source": [
    "### Faculty"
   ]
  },
  {
   "cell_type": "markdown",
   "metadata": {},
   "source": [
    "Problem 05: Write a function `faculty(n: int) -> int` which returns n!."
   ]
  },
  {
   "cell_type": "code",
   "execution_count": null,
   "metadata": {},
   "outputs": [],
   "source": [
    "def test_05(f: Callable[[int], int]) -> None:\n",
    "    test_eq(f(0), 1)\n",
    "    test_eq(f(1), 1)\n",
    "    test_eq(f(2), 2)\n",
    "    test_eq(f(8), 40320)"
   ]
  },
  {
   "cell_type": "markdown",
   "metadata": {},
   "source": [
    "Idea: Multiply all integers from 2 through n"
   ]
  },
  {
   "cell_type": "code",
   "execution_count": null,
   "metadata": {},
   "outputs": [],
   "source": [
    "#collapse\n",
    "def faculty(n: int) -> int:\n",
    "    \"\"\"\n",
    "    :param n: integer\n",
    "    :return:  nth-faculty\n",
    "    \"\"\"\n",
    "    if n < 0:\n",
    "        raise ValueError\n",
    "    else:\n",
    "        result = 1\n",
    "        for i in range(1, n + 1):\n",
    "            result *= i\n",
    "        return result"
   ]
  },
  {
   "cell_type": "markdown",
   "metadata": {},
   "source": [
    "The recursive solution is more elegant and slightly faster. The call stack is $O(n)$, but as $n!$ can only be computed for small $n$, this is no problem."
   ]
  },
  {
   "cell_type": "code",
   "execution_count": null,
   "metadata": {},
   "outputs": [],
   "source": [
    "#collapse\n",
    "def faculty1(n: int) -> int:\n",
    "    \"\"\"\n",
    "    :param n: integer\n",
    "    :return:  nth-faculty\n",
    "    \"\"\"\n",
    "    if n < 0:\n",
    "        raise ValueError\n",
    "    elif n <= 1:\n",
    "        return 1\n",
    "    else:\n",
    "        return n * faculty1(n - 1)"
   ]
  },
  {
   "cell_type": "code",
   "execution_count": null,
   "metadata": {},
   "outputs": [
    {
     "name": "stdout",
     "output_type": "stream",
     "text": [
      "faculty      | 0.0438\n",
      "faculty1     | 0.0466\n"
     ]
    }
   ],
   "source": [
    "run(test_05, 1000, faculty, faculty1)"
   ]
  },
  {
   "cell_type": "markdown",
   "metadata": {},
   "source": [
    "### Fibonacci"
   ]
  },
  {
   "cell_type": "markdown",
   "metadata": {},
   "source": [
    "Problem: We write a function `fibo(n: int) -> int` which returns the n-th fibonacci number"
   ]
  },
  {
   "cell_type": "code",
   "execution_count": null,
   "metadata": {},
   "outputs": [],
   "source": [
    "def test_05(f: Callable[[int], int]) -> None:\n",
    "    test_eq(f(0), 0)\n",
    "    test_eq(f(1), 1)\n",
    "    test_eq(f(2), 1)\n",
    "    test_eq(f(20), 6765)"
   ]
  },
  {
   "cell_type": "code",
   "execution_count": null,
   "metadata": {},
   "outputs": [],
   "source": [
    "#collapse\n",
    "def fibo(n: int) -> int:\n",
    "    \"\"\"\n",
    "    :param n: integer >= 0\n",
    "    :return: n-th Fibonacci number\n",
    "    \"\"\"\n",
    "    if n < 0:\n",
    "        raise ValueError\n",
    "    elif n == 0:\n",
    "        return 0\n",
    "    else:\n",
    "        a, b = 0, 1\n",
    "        for _ in range(2, n + 1):\n",
    "            a, b = b, a + b\n",
    "        return b"
   ]
  },
  {
   "cell_type": "markdown",
   "metadata": {},
   "source": [
    "The recursive solution represents exactly the definition of the fibonacci series.\n",
    "This is clear and concise but inthat case extremely slow."
   ]
  },
  {
   "cell_type": "code",
   "execution_count": null,
   "metadata": {},
   "outputs": [],
   "source": [
    "#collapse\n",
    "def fibo1(n: int) -> int:\n",
    "    \"\"\"\n",
    "    :param n: integer >= 0\n",
    "    :return: n-th Fibonacci number\n",
    "    \"\"\"\n",
    "    # recursive programming, cool but slow\n",
    "    if n < 0:\n",
    "        raise ValueError\n",
    "    elif n <= 1:\n",
    "        return n\n",
    "    else:\n",
    "        return fibo1(n - 2) + fibo1(n - 1)"
   ]
  },
  {
   "cell_type": "code",
   "execution_count": null,
   "metadata": {},
   "outputs": [
    {
     "name": "stdout",
     "output_type": "stream",
     "text": [
      "fibo         | 0.0414\n",
      "fibo1        | 2.8304\n"
     ]
    }
   ],
   "source": [
    "run(test_05, 1000, fibo, fibo1)"
   ]
  },
  {
   "cell_type": "markdown",
   "metadata": {},
   "source": [
    "## Reversing Lists in And out of Place"
   ]
  },
  {
   "cell_type": "markdown",
   "metadata": {},
   "source": [
    "Problem 06: Write a function `reverse_(xs: list) -> None` which reverses the list `xs` in place.\n",
    "We compare our solution to the builtin function `list.reverse`.\n",
    "Please not the difference between reversing in place (the list itself is reversed) and reversing not in place\n",
    "(a new list is produced)."
   ]
  },
  {
   "cell_type": "code",
   "execution_count": null,
   "metadata": {},
   "outputs": [],
   "source": [
    "from random import randrange\n",
    "\n",
    "def test_06(r: Callable[[List[Any]], None]) -> None:\n",
    "    xs, ys = [], []\n",
    "    r(xs)\n",
    "    test_eq(xs, ys)\n",
    "\n",
    "    xs, ys = [1], [1]\n",
    "    r(xs)\n",
    "    test_eq(xs, ys)\n",
    "\n",
    "    xs, ys = [1, 2], [2, 1]\n",
    "    r(xs)\n",
    "    test_eq(xs, ys)\n",
    "\n",
    "    xs, ys = [1, 2, 3, 4], [4, 3, 2, 1]\n",
    "    r(xs)\n",
    "    test_eq(xs, ys)\n",
    "\n",
    "    xs = [randrange(100) for _ in range(1000)]\n",
    "    ys = xs.copy()\n",
    "    r(xs)\n",
    "    r(xs)\n",
    "    test_eq(xs, ys)"
   ]
  },
  {
   "cell_type": "markdown",
   "metadata": {},
   "source": [
    "A comment on the last testcase: `xs` is a list of a thousand random integers between 0 and 99.\n",
    "This testcase documents the fact that reversing a list twice restores the original list: reverse equals its inverse. \n",
    "Note that `ys` is a copy of `xs`, rather than an alias.\n",
    "\n",
    "Idea: Swap the first and the last element, then the second and the last but one and so on. Stop in the middle."
   ]
  },
  {
   "cell_type": "code",
   "execution_count": null,
   "metadata": {},
   "outputs": [],
   "source": [
    "#collapse\n",
    "def reverse_(xs: list) -> None:\n",
    "    \"\"\"\n",
    "    :param xs: a list\n",
    "    :return: None\n",
    "    Side effect: This function reverses the order of xs\n",
    "    \"\"\"\n",
    "    m = len(xs) // 2\n",
    "    for i in range(m):\n",
    "        xs[i], xs[-1 - i] = xs[-1 - i], xs[i]"
   ]
  },
  {
   "cell_type": "code",
   "execution_count": null,
   "metadata": {},
   "outputs": [
    {
     "name": "stdout",
     "output_type": "stream",
     "text": [
      "reverse_     | 0.0982\n",
      "list.reverse | 0.0988\n"
     ]
    }
   ],
   "source": [
    "run(test_06, 10, reverse_, list.reverse)"
   ]
  },
  {
   "cell_type": "markdown",
   "metadata": {},
   "source": [
    "Problem 07: Write a function `reverse(xs: List) -> List` which returns the list `xs`in reversed order."
   ]
  },
  {
   "cell_type": "code",
   "execution_count": null,
   "metadata": {},
   "outputs": [],
   "source": [
    "def test_07(r: Callable[[List[Any]], List[Any]]) -> None:\n",
    "    test_eq(r([]), [])\n",
    "    test_eq(r([1]), [1])\n",
    "    test_eq(r([1, 2]), [2, 1])\n",
    "    test_eq(r([1, 2, 3, 4]), [4, 3, 2, 1])\n",
    "    \n",
    "    xs = [randrange(100) for _ in range(1000)]\n",
    "    ys = xs.copy()\n",
    "    test_eq(r(r(xs)), ys)"
   ]
  },
  {
   "cell_type": "markdown",
   "metadata": {},
   "source": [
    "Idea as above: Swap the first and the last element,\n",
    "then call `reverse` recursively on the not yet swapped subset from the second to the last but first element."
   ]
  },
  {
   "cell_type": "code",
   "execution_count": null,
   "metadata": {},
   "outputs": [],
   "source": [
    "#collapse\n",
    "def reverse(xs: list) -> list:\n",
    "    \"\"\"\n",
    "    :param xs: a list\n",
    "    :return: a new list containing xs in reversed order\n",
    "    same as reverse0, recursive solution\n",
    "    This produces O(n) new lists!\n",
    "    \"\"\"\n",
    "    return xs.copy() if len(xs) <= 1 else [xs[-1]] + reverse(xs[1: -1]) + [xs[0]]"
   ]
  },
  {
   "cell_type": "code",
   "execution_count": null,
   "metadata": {},
   "outputs": [
    {
     "name": "stdout",
     "output_type": "stream",
     "text": [
      "reverse      | 0.1523\n"
     ]
    }
   ],
   "source": [
    "run(test_07, 10, reverse)"
   ]
  },
  {
   "cell_type": "markdown",
   "metadata": {},
   "source": [
    "## Palindromes"
   ]
  },
  {
   "cell_type": "markdown",
   "metadata": {},
   "source": [
    "A palindrom is a string which can be read in both directions such as \"xx\" or\n",
    " \"Mad Zeus, no live devil, lived evil on Suez dam\".\n",
    " Punctuation marks are ignored, lower and upper case letters are considered equal.\n",
    " So, we need a function `normstring(s: str) -> str` which removes all non-letter characters and converts the string to lowercase."
   ]
  },
  {
   "cell_type": "code",
   "execution_count": null,
   "metadata": {},
   "outputs": [],
   "source": [
    "import string\n",
    "\n",
    "#collapse\n",
    "def normstring(s: str) -> list:\n",
    "    \"\"\"\n",
    "    :param s: a string\n",
    "    :return: keeps ascii letters only and converts s to lower case\n",
    "    \"\"\"\n",
    "    return [str.lower(c) for c in s if c in string.ascii_letters]"
   ]
  },
  {
   "cell_type": "markdown",
   "metadata": {},
   "source": [
    "Problem 08: Write a function `palindrome1(s: str) -> bool` which returns true iff the string s is a palindrome."
   ]
  },
  {
   "cell_type": "code",
   "execution_count": null,
   "metadata": {},
   "outputs": [],
   "source": [
    "def test_08(p: Callable[[str], bool]) -> None:\n",
    "    test_eq(p(\"\"), True)\n",
    "    test_eq(p(\"x\"), True)\n",
    "    test_eq(p(\"xx\"), True)\n",
    "    test_eq(p(\"xy\"), False)\n",
    "    test_eq(p(\"Reittier\"), True)\n",
    "    test_eq(p(\"Reliefpfeiler\"), True)\n",
    "    test_eq(p(\"Risotto, Sir?\"), True)\n",
    "    test_eq(p(\"Madam, I'm Adam\"), True)\n",
    "    test_eq(p(\"Liese, tu Gutes, eil!\"), True)\n",
    "    test_eq(p(\"Grub Nero nie in Orenburg?\"), True)\n",
    "    test_eq(p(\"O Genie, der Herr ehre dein Ego!\"), True)\n",
    "    test_eq(p(\"Lewd I did live, & evil did I dwel?\"), True)\n",
    "    test_eq(p(\"Eine treue Familie bei Lima feuerte nie\"), True)\n",
    "    test_eq(p(\"Mad Zeus, no live devil, lived evil on Suez dam\"), True)\n",
    "    test_eq(p(\"Straw? No, too stupid a fad. I put soot on warts.\"), True)"
   ]
  },
  {
   "cell_type": "markdown",
   "metadata": {},
   "source": [
    "The non-recursive solution resembles the reverse function:\n",
    "Normalize the input first. Then compare the first and the last letter.\n",
    "If they coincide proceed to the next pair, if not return False."
   ]
  },
  {
   "cell_type": "code",
   "execution_count": null,
   "metadata": {},
   "outputs": [],
   "source": [
    "#collapse\n",
    "def palindrome(xs: str) -> bool:\n",
    "    \"\"\"\n",
    "    :param xs: string\n",
    "    :return: true if xs is a palindrome\n",
    "    \"\"\"\n",
    "    ys = normstring(xs)\n",
    "    m = len(ys) // 2\n",
    "    for i in range(m):\n",
    "        if ys[i] != ys[-1 - i]:\n",
    "            return False\n",
    "    return True"
   ]
  },
  {
   "cell_type": "markdown",
   "metadata": {},
   "source": [
    "The recursive solution needs a local helper function if `normstring` is to be called only once."
   ]
  },
  {
   "cell_type": "code",
   "execution_count": null,
   "metadata": {},
   "outputs": [],
   "source": [
    "#collapse\n",
    "def palindrome1(xs: str) -> bool:\n",
    "    \"\"\"\n",
    "    :param xs: string\n",
    "    :return: true if xs is a palindrome\n",
    "    \"\"\"\n",
    "    def pal(ys):\n",
    "        return True if len(ys) <= 1 else ys[0] == ys[-1] and pal(ys[1:-1])\n",
    "\n",
    "    return pal(normstring(xs))"
   ]
  },
  {
   "cell_type": "markdown",
   "metadata": {},
   "source": [
    "The shortest and fastest solution uses the builtin method `list.reverse`"
   ]
  },
  {
   "cell_type": "code",
   "execution_count": null,
   "metadata": {},
   "outputs": [],
   "source": [
    "#collapse\n",
    "def palindrome2(xs: str) -> bool:\n",
    "    \"\"\"\n",
    "    :param xs: string\n",
    "    :return: true if xs is a palindrome\n",
    "    \"\"\"\n",
    "    ys = list(normstring(xs))\n",
    "    zs = list(ys)\n",
    "    zs.reverse()\n",
    "    return ys == zs"
   ]
  },
  {
   "cell_type": "code",
   "execution_count": null,
   "metadata": {},
   "outputs": [
    {
     "name": "stdout",
     "output_type": "stream",
     "text": [
      "palindrome   | 0.2305\n",
      "palindrome1  | 0.2392\n",
      "palindrome2  | 0.2010\n"
     ]
    }
   ],
   "source": [
    "run(test_08, 1000, palindrome, palindrome1, palindrome2)"
   ]
  },
  {
   "cell_type": "markdown",
   "metadata": {},
   "source": [
    "## Roman Numbers"
   ]
  },
  {
   "cell_type": "markdown",
   "metadata": {},
   "source": [
    "Problem 09: Write a function `romans() -> List[str]`\n",
    "which returns the list of all roman numbers from 1 to 4999, the element at zero being \" \"."
   ]
  },
  {
   "cell_type": "code",
   "execution_count": null,
   "metadata": {},
   "outputs": [],
   "source": [
    "def test_09(r: Callable[[], List[str]]) -> None:\n",
    "    rs = r()\n",
    "    test_eq(len(rs), 5000)\n",
    "    test_eq(rs[0], '')\n",
    "    test_eq(rs[1], 'I')\n",
    "    test_eq(rs[9], 'IX')\n",
    "    test_eq(rs[4999], 'MMMMCMXCIX' )"
   ]
  },
  {
   "cell_type": "markdown",
   "metadata": {},
   "source": [
    "Idea: We keep four lists of Roman digits: the ones from 'I' to 'IX', the tens from 'X' to 'XC',\n",
    "and the hundreds from 'C' to 'CM' and the thousands from 'M' to 'MMMM'.\n",
    "The largest Roman number is 'MMMMCMXCIX' (4999).\n",
    "For technical reasons each list is prepended with the empty character. The algorithm is a simple fourfold loop."
   ]
  },
  {
   "cell_type": "code",
   "execution_count": null,
   "metadata": {},
   "outputs": [],
   "source": [
    "#collapse\n",
    "def romans() -> List[str]:\n",
    "    \"\"\"\n",
    "    :return: romans numbers from 1 to 4999\n",
    "    \"\"\"\n",
    "    digits0 = ['', 'M', 'MM', 'MMM', 'MMMM']\n",
    "    digits1 = ['', 'C', 'CC', 'CCC', 'CD', 'D', 'DC', 'DCC', 'DCCC', 'CM']\n",
    "    digits2 = ['', 'X', 'XX', 'XXX', 'XL', 'L', 'LX', 'LXX', 'LXXX', 'XC']\n",
    "    digits3 = ['', 'I', 'II', 'III', 'IV', 'V', 'VI', 'VII', 'VIII', 'IX']\n",
    "   \n",
    "    result = []\n",
    "    for d0 in digits0:\n",
    "        for d1 in digits1:\n",
    "            for d2 in digits2:\n",
    "                for d3 in digits3:\n",
    "                    result.append(d0 + d1 + d2 + d3)\n",
    "    return result"
   ]
  },
  {
   "cell_type": "markdown",
   "metadata": {},
   "source": [
    "The following implementation is slightly more elegant. It is the starting point of the conjoin pattern (see xxx).\n",
    "This pattern is helpful if you don't know the number of nested loops or when the loop criteria depend on the state\n",
    "stored in a single variable, here `number`."
   ]
  },
  {
   "cell_type": "code",
   "execution_count": null,
   "metadata": {},
   "outputs": [],
   "source": [
    "#collapse\n",
    "def romans1() -> List[str]:\n",
    "    \"\"\"\n",
    "    :return: romans numbers from 1 to 4999\n",
    "    \"\"\"\n",
    "    digits0 = ['', 'M', 'MM', 'MMM', 'MMMM']\n",
    "    digits1 = ['', 'C', 'CC', 'CCC', 'CD', 'D', 'DC', 'DCC', 'DCCC', 'CM']\n",
    "    digits2 = ['', 'X', 'XX', 'XXX', 'XL', 'L', 'LX', 'LXX', 'LXXX', 'XC']\n",
    "    digits3 = ['', 'I', 'II', 'III', 'IV', 'V', 'VI', 'VII', 'VIII', 'IX']\n",
    "   \n",
    "    result = []\n",
    "    number = 4 * [None]\n",
    "    for number[0] in digits0:\n",
    "        for number[1] in digits1:\n",
    "            for number[2] in digits2:\n",
    "                for number[3] in digits3:\n",
    "                    result.append(''.join(number))\n",
    "    return result"
   ]
  },
  {
   "cell_type": "code",
   "execution_count": null,
   "metadata": {},
   "outputs": [
    {
     "name": "stdout",
     "output_type": "stream",
     "text": [
      "romans       | 0.1124\n",
      "romans1      | 0.1038\n"
     ]
    }
   ],
   "source": [
    "run(test_09, 100, romans, romans1)"
   ]
  },
  {
   "cell_type": "markdown",
   "metadata": {},
   "source": [
    "Converting to and from Roman numbers is easiest and fastest done by means of two dictionaries.\n",
    "Problem 10: We write a function which returns two other functions `to_roman` and `from_roman`.\n",
    "It generates the list of Roman numbers and a dictionary which maps Roman numbers back to integers."
   ]
  },
  {
   "cell_type": "code",
   "execution_count": null,
   "metadata": {},
   "outputs": [],
   "source": [
    "def test_10(r: Callable[[], Tuple[Callable[[int], str], Callable[[str], int]]]) -> None:\n",
    "    to_roman, from_roman = r()\n",
    "    test_eq(to_roman(0), '')\n",
    "    test_eq(to_roman(1), 'I')\n",
    "    test_eq(to_roman(9), 'IX')\n",
    "    test_eq(to_roman(4999), 'MMMMCMXCIX' )\n",
    "\n",
    "    test_eq(from_roman(''), 0)\n",
    "    test_eq(from_roman('I'), 1)\n",
    "    test_eq(from_roman('IX'), 9)\n",
    "    test_eq(from_roman('MMMMCMXCIX'), 4999)\n",
    "\n",
    "    xs = [randrange(4999) for _ in range(1000)]\n",
    "    rs = [to_roman(x) for x in xs]\n",
    "    ys = [from_roman(r) for r in rs]\n",
    "    test_eq(xs, ys)"
   ]
  },
  {
   "cell_type": "code",
   "execution_count": null,
   "metadata": {},
   "outputs": [],
   "source": [
    "# collapse\n",
    "def roman_trafos() -> Tuple[Callable[[int], str], Callable[[str], int]]:\n",
    "    \"\"\"\n",
    "    :return: functions to_roman, from_roman\n",
    "    to_roman_list and from_roman_map are computed once.\n",
    "    They are contained in the closure of to_roman and from_roman\n",
    "    \"\"\"\n",
    "    to_roman_list = romans()\n",
    "    from_roman_map = dict((to_roman_list[n], n) for n in range(5000))\n",
    "\n",
    "    def to_roman(n):\n",
    "        return to_roman_list[n]\n",
    "\n",
    "    def from_roman(r):\n",
    "        return from_roman_map[r]\n",
    "\n",
    "    return to_roman, from_roman"
   ]
  },
  {
   "cell_type": "code",
   "execution_count": null,
   "metadata": {},
   "outputs": [
    {
     "name": "stdout",
     "output_type": "stream",
     "text": [
      "roman_trafos | 0.1108\n"
     ]
    }
   ],
   "source": [
    "run(test_10, 10, roman_trafos)"
   ]
  },
  {
   "cell_type": "markdown",
   "metadata": {},
   "source": [
    "### Pascal's Triangle, Binomial Coefficients"
   ]
  },
  {
   "cell_type": "markdown",
   "metadata": {},
   "source": [
    "Problem 11: Write a function `bico(n: int) -> List[int]` which returns the binomial coefficients of $(a + b)^n$"
   ]
  },
  {
   "cell_type": "code",
   "execution_count": null,
   "metadata": {},
   "outputs": [],
   "source": [
    "def test_11(b: Callable[[int], List[str]]) -> None:\n",
    "    test_eq(b(0), [1])\n",
    "    test_eq(b(1), [1, 1])\n",
    "    test_eq(b(2), [1, 2, 1])\n",
    "    test_eq(b(5), [1, 5, 10, 10, 5, 1])"
   ]
  },
  {
   "cell_type": "markdown",
   "metadata": {},
   "source": [
    "Idea: We apply the defining rule of Pascals triangle:\n",
    "The first and last element of each row is 1; the topmost row is just 1.\n",
    "Every coefficient is the sum of the two coefficients above."
   ]
  },
  {
   "cell_type": "code",
   "execution_count": null,
   "metadata": {},
   "outputs": [],
   "source": [
    "#collapse\n",
    "def bico(n: int) -> List[int]:\n",
    "    \"\"\"\n",
    "    :param n: an integer >= 0\n",
    "    :return: coefficients of (a + b) ** n\n",
    "    \"\"\"\n",
    "    triangle = [[1]]  # that's all for n = 0\n",
    "    for k in range(1, n + 1):\n",
    "        triangle.append([1])  # append a new line starting with 1\n",
    "        for i in range(k - 1):  # apply the rule for computing the pascal triangle\n",
    "            triangle[k].append(triangle[k - 1][i] + triangle[k - 1][i + 1])\n",
    "        triangle[k].append(1)  # append final 1\n",
    "\n",
    "    return triangle[n]  # return last line"
   ]
  },
  {
   "cell_type": "markdown",
   "metadata": {},
   "source": [
    "The recursive solution follows the same idea. The loop is replaced with the recursive call."
   ]
  },
  {
   "cell_type": "code",
   "execution_count": null,
   "metadata": {},
   "outputs": [],
   "source": [
    "#collapse\n",
    "def bico1(n: int) -> List[int]:\n",
    "    \"\"\"\n",
    "    :param n: an integer >= 0\n",
    "    :return: coefficients of (a + b) ** n\n",
    "    recursive implementation\n",
    "    \"\"\"\n",
    "    if n == 0:\n",
    "        return [1]\n",
    "    else:\n",
    "        previous_line = bico1(n - 1)\n",
    "        this_line = [1]  # set first coefficient = 1\n",
    "        for i in range(n - 1):  # apply the rule for computing the pascal triangle\n",
    "            this_line.append(previous_line[i] + previous_line[i + 1])\n",
    "        this_line.append(1)  # append last coefficient = 1\n",
    "\n",
    "    return this_line"
   ]
  },
  {
   "cell_type": "code",
   "execution_count": null,
   "metadata": {},
   "outputs": [
    {
     "name": "stdout",
     "output_type": "stream",
     "text": [
      "bico         | 0.0136\n",
      "bico1        | 0.0134\n"
     ]
    }
   ],
   "source": [
    "run(test_11, 100, bico, bico1)\n",
    "\n",
    "\n",
    "\n"
   ]
  }
 ],
 "metadata": {
  "kernelspec": {
   "display_name": "Python 3",
   "language": "python",
   "name": "python3"
  }
 },
 "nbformat": 4,
 "nbformat_minor": 1
}
