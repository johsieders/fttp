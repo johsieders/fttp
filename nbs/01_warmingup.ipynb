{
 "cells": [
  {
   "cell_type": "markdown",
   "metadata": {},
   "source": [
    "# Warming Up\n",
    "\n",
    "> Easy and not so easy exercises\n"
   ]
  },
  {
   "cell_type": "markdown",
   "metadata": {},
   "source": [
    "## Exercise A"
   ]
  },
  {
   "cell_type": "code",
   "execution_count": null,
   "metadata": {},
   "outputs": [],
   "source": [
    "from itertools import chain, cycle, islice\n",
    "from collections import deque\n",
    "from typing import Callable, Iterator, Tuple, List\n",
    "from collections.abc import Iterable\n",
    "from numbers import Number\n",
    "from operator import add"
   ]
  },
  {
   "cell_type": "markdown",
   "metadata": {},
   "source": [
    "- Write a function `powerOf2(n: int) -> bool` which returns True iff  n is a power of 2\n",
    "- Restriction: no logarithm, no exp-function allowed"
   ]
  },
  {
   "cell_type": "code",
   "execution_count": null,
   "metadata": {},
   "outputs": [],
   "source": [
    "#collapse\n",
    "def powerOf2(n: int) -> bool:\n",
    "    \"\"\"\n",
    "    :param n: an integer > = 1\n",
    "    :return: true if n is a power of two\n",
    "    \"\"\"\n",
    "    return not n & (n - 1)"
   ]
  },
  {
   "cell_type": "markdown",
   "metadata": {},
   "source": [
    "- Write a function `log2(n: int) -> int` which returns the number of binary digits of n minus one"
   ]
  },
  {
   "cell_type": "code",
   "execution_count": null,
   "metadata": {},
   "outputs": [],
   "source": [
    "#collapse\n",
    "def log2(n):\n",
    "    \"\"\"\n",
    "    :param n: an integer >= 0\n",
    "    :return: (number of binary digits of n) - 1\n",
    "    So: log2(1) = 0, log2(2) = 1, log2(3) = 1\n",
    "    \"\"\"\n",
    "    if n < 1:\n",
    "        raise ValueError\n",
    "    result = -1\n",
    "    while n > 0:\n",
    "        n >>= 1\n",
    "        result += 1\n",
    "    return result"
   ]
  },
  {
   "cell_type": "markdown",
   "metadata": {},
   "source": [
    "- We consider half-open intervals such as u = [a, b) given as a tuple `(a, b)`.\n",
    "Write a function `intersection(u: (int, int), v: (int, int)) -> (int, int)`\n",
    "which returns the intersection of the intervals `u` and `v`.\n",
    "- Question: How do you manage the empty interval?\n",
    "- Hint: This is a one-liner"
   ]
  },
  {
   "cell_type": "code",
   "execution_count": null,
   "metadata": {},
   "outputs": [],
   "source": [
    "#collapse\n",
    "def intersection(u: (int, int), v: (int, int)) -> (int, int):\n",
    "    \"\"\"\n",
    "    :param u: half open interval (u0, u1)\n",
    "    :param v: half open interval (v0, v1)\n",
    "    :return: intersection of u and v\n",
    "    Convention: an interval u is empty iff u[0] >= u[1]\n",
    "    \"\"\"\n",
    "    return max(u[0], v[0]), min(u[1], v[1])"
   ]
  },
  {
   "cell_type": "markdown",
   "metadata": {},
   "source": [
    "- Write a non-recursivefunction `faculty(n: int) -> long` which returns the faculty of n."
   ]
  },
  {
   "cell_type": "code",
   "execution_count": null,
   "metadata": {},
   "outputs": [],
   "source": [
    "#collapse\n",
    "def faculty(n: int) -> int:\n",
    "    \"\"\"\n",
    "    :param n: integer\n",
    "    :return:  nth-faculty\n",
    "    standard solution\n",
    "    \"\"\"\n",
    "    if n < 0:\n",
    "        raise ValueError\n",
    "    else:\n",
    "        result = 1\n",
    "        for i in range(1, n + 1):\n",
    "            result *= i\n",
    "        return result\n"
   ]
  },
  {
   "cell_type": "markdown",
   "metadata": {},
   "source": [
    "- Write a recursivefunction `faculty1(n: int) -> long` which returns the faculty of n."
   ]
  },
  {
   "cell_type": "code",
   "execution_count": null,
   "metadata": {},
   "outputs": [],
   "source": [
    "#collapse\n",
    "def faculty1(n: int) -> int:\n",
    "    \"\"\"\n",
    "    :param n: integer\n",
    "    :return:  nth-faculty\n",
    "    recursive solution\n",
    "    \"\"\"\n",
    "    if n < 0:\n",
    "        raise ValueError\n",
    "    elif n <= 1:\n",
    "        return 1\n",
    "    else:\n",
    "        return n * faculty1(n - 1)"
   ]
  },
  {
   "cell_type": "markdown",
   "metadata": {},
   "source": [
    "- Write a function `fibo(n: int) -> int` which returns the n-th fibonacci number"
   ]
  },
  {
   "cell_type": "code",
   "execution_count": null,
   "metadata": {},
   "outputs": [],
   "source": [
    "#collapse\n",
    "def fibo(n: int) -> int:\n",
    "    \"\"\"\n",
    "    :param n: integer >= 0\n",
    "    :return: n-th Fibonacci number\n",
    "    standard solution\n",
    "    \"\"\"\n",
    "    if n < 0:\n",
    "        raise ValueError\n",
    "    elif n == 0:\n",
    "        return 0\n",
    "    else:\n",
    "        a, b = 0, 1\n",
    "        for _ in range(2, n + 1):\n",
    "            a, b = b, a + b\n",
    "        return b"
   ]
  },
  {
   "cell_type": "markdown",
   "metadata": {},
   "source": [
    "- Write a recursive function `fibo(n: int) -> int` which returns the n-th fibonacci number\n",
    "- How deep is the call stack?"
   ]
  },
  {
   "cell_type": "code",
   "execution_count": null,
   "metadata": {},
   "outputs": [],
   "source": [
    "#collapse\n",
    "def fibo2(n: int) -> int:\n",
    "    \"\"\"\n",
    "    :param n: integer >= 0\n",
    "    :return: n-th Fibonacci number\n",
    "    \"\"\"\n",
    "    # recursive programming, cool but slow\n",
    "    if n < 0:\n",
    "        raise ValueError\n",
    "    elif n <= 1:\n",
    "        return n\n",
    "    else:\n",
    "        return fibo2(n - 2) + fibo2(n - 1)"
   ]
  },
  {
   "cell_type": "markdown",
   "metadata": {},
   "source": [
    "- Write a function `gcd(a: int, b: long) -> long` which returns the greatest common divisor of a and b\n",
    "- How do you deal with negative or zero arguments?"
   ]
  },
  {
   "cell_type": "code",
   "execution_count": null,
   "metadata": {},
   "outputs": [],
   "source": [
    "#collapse\n",
    "def gcd(a: int, b: int) -> int:\n",
    "    \"\"\"\n",
    "    :param a: integer\n",
    "    :param b: integer\n",
    "    :return: greatest common divisor of a and b\n",
    "    standard solution\n",
    "    \"\"\"\n",
    "    while b != 0:\n",
    "        a, b = b, a % b\n",
    "    return a"
   ]
  },
  {
   "cell_type": "markdown",
   "metadata": {},
   "source": [
    "- Write a recursive function `gcd(a: int, b: long) -> long` which returns the greatest common divisor of a and b\n",
    "- How do you deal with negative or zero arguments?"
   ]
  },
  {
   "cell_type": "code",
   "execution_count": null,
   "metadata": {},
   "outputs": [],
   "source": [
    "#collapse\n",
    "def gcd1(a, b):\n",
    "    \"\"\"\n",
    "    :param a: integer\n",
    "    :param b: integer\n",
    "    :return: greatest common divisor of a and b\n",
    "    recursive solution\n",
    "    \"\"\"\n",
    "    return a if b == 0 \\\n",
    "        else gcd1(b, a % b)"
   ]
  },
  {
   "cell_type": "markdown",
   "metadata": {},
   "source": [
    "- Write a function `geo(factor: Number, start: Number) -> Iterator` which returns the geometric series starting at `start` with the given `factor`.\n",
    "  - Hint: Use `fun()`"
   ]
  },
  {
   "cell_type": "code",
   "execution_count": null,
   "metadata": {},
   "outputs": [],
   "source": [
    "#collapse\n",
    "def geo(factor: Number, start: Number = 1) -> Iterator[Number]:\n",
    "    \"\"\"\n",
    "    :param factor: any number\n",
    "    :param start: any number, starting value\n",
    "    :return: the geometric series staring at start\n",
    "    \"\"\"\n",
    "    return fun(lambda x: x * factor, start)"
   ]
  },
  {
   "cell_type": "markdown",
   "metadata": {},
   "source": [
    "- Write a function `fibo()` which returns the Fibonacci numbers.\n",
    "  - Hint: Use `fun()`"
   ]
  },
  {
   "cell_type": "code",
   "execution_count": null,
   "metadata": {},
   "outputs": [],
   "source": [
    "#collapse\n",
    "def fibo() -> Iterator[int]:\n",
    "    \"\"\"\n",
    "    :return: iterator yielding the fibonacci series\n",
    "    \"\"\"\n",
    "    return fun(add, 1, 1)"
   ]
  },
  {
   "cell_type": "markdown",
   "metadata": {},
   "source": [
    "- Write a class `Fibo()` which can be used as an Iterable and returns the Fibonacci numbers.\n",
    "  - Hint: Overload `__iter__(self)`"
   ]
  },
  {
   "cell_type": "code",
   "execution_count": null,
   "metadata": {},
   "outputs": [],
   "source": [
    "#collapse\n",
    "class Fibo(object):\n",
    "    def __iter__(self):\n",
    "        return fibo()"
   ]
  },
  {
   "cell_type": "markdown",
   "metadata": {},
   "source": [
    "- Write a function `alternate() -> Iterator` which alternates between the arithmetic and geometric series.\n",
    "  - It goes: `ari0, geo0, ar1, geo1, ...`"
   ]
  },
  {
   "cell_type": "code",
   "execution_count": null,
   "metadata": {},
   "outputs": [],
   "source": [
    "#collapse\n",
    "def alternate() -> Iterator[int]:\n",
    "    a = ari(1)\n",
    "    g = geo(2)\n",
    "    while True:\n",
    "        yield next(a)\n",
    "        yield next(g)"
   ]
  },
  {
   "cell_type": "markdown",
   "metadata": {},
   "source": [
    "- Write a function `hamming(*ps: int) -> Iterator` which produces all multiples of `p0`, `p1`, `p2`, ...\n",
    "  - So, hamming(2, 3, 5) yields 1, 2, 3, 4, 5, 6, 8, 9, 10, 12, ...\n",
    "  - Hint: This solution follows Dijkstra: \"An exercise attributed to R.W. Hamming\":\n",
    "    - Let `q` be the sequence of multiples produced so far.\n",
    "    - Then append `min{p*x | x in q, p in ps, p*x > max(q)}` to `q`.\n",
    "    - The next number to be produced is `min(q)`."
   ]
  },
  {
   "cell_type": "code",
   "execution_count": null,
   "metadata": {},
   "outputs": [],
   "source": [
    "#collapse\n",
    "def hamming(*ps: int) -> Iterator[int]:\n",
    "    \"\"\"\n",
    "    :param ps: ps = (p0, p1, p2, ..) contains one or more integers, generally primes\n",
    "    :return: an iterator yielding all multiples of p0, p1, p2, ..\n",
    "\n",
    "    This solution follows Dijkstra: \"An exercise attributed to R.W. Hamming\":\n",
    "    Let q be the sequence of multiples produced so far.\n",
    "    Then append min{p*x | x in q, p in ps, p*x > max(q)} to q.\n",
    "    The next number to be produced is min(q)\n",
    "    \"\"\"\n",
    "\n",
    "    q = [1]  # q contains all numbers produced so far\n",
    "    while True:\n",
    "        yield q[-1]\n",
    "        mq = max(q)\n",
    "        q.append(min([p * x for p in ps for x in q if p * x > mq]))\n"
   ]
  },
  {
   "cell_type": "markdown",
   "metadata": {},
   "source": [
    "## Exercise C"
   ]
  },
  {
   "cell_type": "markdown",
   "metadata": {},
   "source": [
    "- Write a function `skip_duplicates(t: Iterable) -> Iterator` which skips successive duplicates of `t`"
   ]
  },
  {
   "cell_type": "code",
   "execution_count": null,
   "metadata": {},
   "outputs": [],
   "source": [
    "#collapse\n",
    "def skip_duplicates(t: Iterable) -> Iterator:\n",
    "    \"\"\"\"\n",
    "    :param t: an iterator\n",
    "    :return: an iterator skipping successive duplicates\n",
    "    \"\"\"\n",
    "    t = iter(t)\n",
    "    last = next(t)\n",
    "    yield last\n",
    "\n",
    "    while True:\n",
    "        x = next(t)\n",
    "        if x != last:\n",
    "            last = x\n",
    "            yield last"
   ]
  },
  {
   "cell_type": "markdown",
   "metadata": {},
   "source": [
    "- Write a function `merge(*ts: Iterable) -> Iterator` which merges n non-descending iterators into one.\n",
    "  - Hint: Keep a dictionary `heads` with key = given iterator `t` and value = last element read (i.e. head of `t`)"
   ]
  },
  {
   "cell_type": "code",
   "execution_count": null,
   "metadata": {},
   "outputs": [],
   "source": [
    "#collapse\n",
    "def merge(*ts: Iterable) -> Iterator:\n",
    "    \"\"\"\n",
    "    :param ts: a list of n non-descending iterables, n >= 0\n",
    "    :return: merge of n iterables into one\n",
    "    This is a weak merge:\n",
    "    It doesn't stop before the longest iterator is exhausted\n",
    "    \"\"\"\n",
    "    ts = [iter(t) for t in ts]\n",
    "    heads = {}.fromkeys(ts)  # dictionary of last read entries, initially all None\n",
    "\n",
    "    while True:\n",
    "        # get first element of each iterable if there is one\n",
    "        for t in ts:\n",
    "            if heads[t] is None:\n",
    "                h = take(t, 1)  # try to read next element\n",
    "                heads[t] = h[0] if len(h) > 0 else None\n",
    "\n",
    "        # get non-exhausted entries\n",
    "        active_ts = [t for t in ts if heads[t] is not None]\n",
    "        if not active_ts:  # no active entry left\n",
    "            return\n",
    "        else:\n",
    "            # get non-exhausted entry with minimum value\n",
    "            min_t = min(active_ts, key=lambda t: heads[t])\n",
    "            yield heads[min_t]\n",
    "            heads[min_t] = None  # to be updated on next loop"
   ]
  },
  {
   "cell_type": "markdown",
   "metadata": {},
   "source": [
    "- Write a recursive function `merge(s, t: Iterable) -> Iterator` which merges two non-descending iterators into one.\n",
    "  - Hint: The solution follows exactly the list-based solution. Use `chain()`."
   ]
  },
  {
   "cell_type": "code",
   "execution_count": null,
   "metadata": {},
   "outputs": [],
   "source": [
    "#collapse\n",
    "def merge1(s, t: Iterable) -> Iterator:\n",
    "    \"\"\"\n",
    "    :param s: a non-descending iterable,\n",
    "    :param t: a non-descending iterable,\n",
    "    :return: merge of s and t into one\n",
    "    This is a weak merge:\n",
    "    It doesn't stop before the longest iterator is exhausted\n",
    "    Elegant but inefficient (max recursion depth)\n",
    "    \"\"\"\n",
    "    s, t = iter(s), iter(t)  # get iterator from iterable\n",
    "    head_s, head_t = take(s, 1), take(t, 1)  # take first element\n",
    "\n",
    "    if not head_s:\n",
    "        yield from chain(head_t, t)  # restore first element of t\n",
    "    elif not head_t:\n",
    "        yield from chain(head_s, s)  # restore first element of s\n",
    "    elif head_s[0] <= head_t[0]:\n",
    "        yield head_s[0]\n",
    "        yield from merge1(s, chain(head_t, t))\n",
    "    else:\n",
    "        yield head_t[0]\n",
    "        yield from merge1(chain(head_s, s), t)"
   ]
  },
  {
   "cell_type": "markdown",
   "metadata": {},
   "source": [
    "- Write a function `tee(t: Iterable, n: int) -> Tuple[Iterator]` which forks an iterable into n copies to be iterated on independently.\n",
    "  - Hints:\n",
    "    - Keep a list of n deques, one for each fork. This is the buffer.\n",
    "    - Each iterator is fed from its deque; you have to fill the deques if they are exhausted. This is `itertools.tee`."
   ]
  },
  {
   "cell_type": "code",
   "execution_count": null,
   "metadata": {},
   "outputs": [],
   "source": [
    "#collapse\n",
    "def tee1(t: Iterable, n: int = 2) -> Tuple[Iterator]:\n",
    "    \"\"\"\n",
    "    :param t: an iterable\n",
    "    :param n: number of forks\n",
    "    :return: n copies of t, to be iterated on independently\n",
    "    This is a remake of itertools.tee\n",
    "    \"\"\"\n",
    "    t = iter(t)\n",
    "    buffer = [deque() for _ in range(n)]\n",
    "\n",
    "    def gen(q: deque) -> Iterator:\n",
    "        while True:\n",
    "            if not q:  # when the local deque is empty\n",
    "                x = next(t)  # fetch a new value and\n",
    "                for d in buffer:  # load it into buffer\n",
    "                    d.append(x)\n",
    "            yield q.popleft()\n",
    "\n",
    "    return tuple(gen(d) for d in buffer)"
   ]
  },
  {
   "cell_type": "markdown",
   "metadata": {},
   "source": []
  }
 ],
 "metadata": {
  "kernelspec": {
   "display_name": "Python 3",
   "language": "python",
   "name": "python3"
  }
 },
 "nbformat": 4,
 "nbformat_minor": 1
}
