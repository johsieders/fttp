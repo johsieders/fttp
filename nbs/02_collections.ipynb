{
 "cells": [
  {
   "cell_type": "markdown",
   "metadata": {},
   "source": [
    "# Collections\n",
    "\n",
    "> Tuples and lists, sets and dictionaries, and L"
   ]
  },
  {
   "cell_type": "markdown",
   "metadata": {},
   "source": [
    "We use fastai's test library. Our tests always preceed the implementation(s). They should silently go through, returning only the execution time."
   ]
  },
  {
   "cell_type": "code",
   "execution_count": null,
   "metadata": {},
   "outputs": [],
   "source": [
    "# uncomment this to install nbdev\n",
    "# !pip install nbdev\n",
    "\n",
    "from fastcore.test import test_eq\n",
    "from timeit import timeit"
   ]
  },
  {
   "cell_type": "markdown",
   "metadata": {},
   "source": [
    "\n",
    "## Tuples and Lists\n",
    "\n",
    "Iterables produce Iterators via `iter()` such as all Collections.\n",
    "Iterator yield the next element via `next()`. By convention, all Iterators\n",
    "are also Iterables; the standard implementation being to return self.\n",
    "Some examples:\n",
    "\n",
    "* `(0, 1, 2, 3)` is a tuple, no iterator\n",
    "* `range(4)` is a tuple, no iterator\n",
    "* `naturals()` is an iterator\n",
    "* `(1 / k for k in naturals())` is an iterator"
   ]
  },
  {
   "cell_type": "markdown",
   "metadata": {},
   "source": [
    "## Histograms"
   ]
  },
  {
   "cell_type": "markdown",
   "metadata": {},
   "source": [
    "We write a function `histogram(xs: list) -> dict` which returns a dictionary containing the\n",
    "number of occurrences of each x in xs. Here is what `histogram` is supposed to do:"
   ]
  },
  {
   "cell_type": "code",
   "execution_count": null,
   "metadata": {},
   "outputs": [],
   "source": [
    "def test_histogram(htg):\n",
    "    def aux():\n",
    "        xss = [[], [1], [0, 1, 2, 2, 3, 3, 3], list(range(500)) + list(range(500))]\n",
    "        for xs in xss:\n",
    "            h = htg(xs)\n",
    "            for x in xs:\n",
    "                test_eq(h[x], xs.count(x))\n",
    "    return aux"
   ]
  },
  {
   "cell_type": "markdown",
   "metadata": {},
   "source": [
    "Idea: Start with an empty dictionary; iterate over xs and count the occurrence of each x."
   ]
  },
  {
   "cell_type": "code",
   "execution_count": null,
   "metadata": {},
   "outputs": [],
   "source": [
    "#collapse\n",
    "def histogram1(xs: list) -> dict:\n",
    "    \"\"\"\n",
    "    :param xs: a list\n",
    "    :return: histogram of xs: a dictionary indicating how often each x occurs in xs\n",
    "    \"\"\"\n",
    "    result = {}\n",
    "    for x in xs:\n",
    "        result[x] = 1 if x not in result.keys() else result[x] + 1\n",
    "    return result"
   ]
  },
  {
   "cell_type": "markdown",
   "metadata": {},
   "source": [
    "Another idea: define the dictionary directly"
   ]
  },
  {
   "cell_type": "code",
   "execution_count": null,
   "metadata": {},
   "outputs": [],
   "source": [
    "#collapse\n",
    "def histogram2(xs: list) -> dict:\n",
    "    \"\"\"\n",
    "    :param xs: a list\n",
    "    :return: histogram of xs: a dictionary indicating how often each x occurs in xs\n",
    "    \"\"\"\n",
    "    return dict([(x, xs.count(x)) for x in xs])"
   ]
  },
  {
   "cell_type": "markdown",
   "metadata": {},
   "source": [
    "A little tweak: iterate over `set(xs)` rather than `xs`"
   ]
  },
  {
   "cell_type": "code",
   "execution_count": null,
   "metadata": {},
   "outputs": [],
   "source": [
    "#collapse\n",
    "def histogram3(xs: list) -> dict:\n",
    "    \"\"\"\n",
    "    :param xs: a list\n",
    "    :return: histogram of xs: a dictionary indicating how often each x occurs in xs\n",
    "    \"\"\"\n",
    "    return dict([(x, xs.count(x)) for x in set(xs)])"
   ]
  },
  {
   "cell_type": "markdown",
   "metadata": {},
   "source": [
    "Compare the results"
   ]
  },
  {
   "cell_type": "code",
   "execution_count": null,
   "metadata": {},
   "outputs": [
    {
     "name": "stdout",
     "output_type": "stream",
     "text": [
      "histogram1 | 2.0417352\n",
      "histogram2 | 2.8792690000000003\n",
      "histogram2 | 2.9637431000000003\n"
     ]
    }
   ],
   "source": [
    "for htg in (histogram1, histogram2, histogram2 ):\n",
    "    print(f\"{htg.__name__ :<7} | {timeit(test_histogram(htg), number=100)}\")"
   ]
  },
  {
   "cell_type": "markdown",
   "metadata": {},
   "source": [
    "### Indices"
   ]
  },
  {
   "cell_type": "markdown",
   "metadata": {},
   "source": [
    "We write a function `index(book: list, keywords: list) -> dict` which returns the index of a book.\n",
    "The `book` is given as a list of pages, each page being a list of words. `keywords` is the list of words to be indexed.\n",
    "The result is a dictionary which contains for each keyword the set of pages where it occurs.\n",
    "Here is what `index` is supposed to do:"
   ]
  },
  {
   "cell_type": "code",
   "execution_count": null,
   "metadata": {},
   "outputs": [],
   "source": [
    "def test_index(idx):\n",
    "    def aux():\n",
    "        book = [['xx', 'yy', 'zz'],\n",
    "                ['xx', 'uu', 'zz'],\n",
    "                ['xx', 'yy', 'vv', 'tt']]\n",
    "        keywords = ['xx', 'tt']\n",
    "\n",
    "        index = idx(book, keywords)\n",
    "        test_eq(keywords, list(index.keys()))\n",
    "        for w, ps in index.items():\n",
    "            for p in ps:\n",
    "                test_eq(w in book[p], True)\n",
    "    return aux"
   ]
  },
  {
   "cell_type": "markdown",
   "metadata": {},
   "source": [
    "Idea: Start with an empty dictionary; iterate over all pages"
   ]
  },
  {
   "cell_type": "code",
   "execution_count": null,
   "metadata": {},
   "outputs": [],
   "source": [
    "#collapse\n",
    "def index(book: list, keywords: list) -> dict:\n",
    "    \"\"\"\n",
    "    book[i]  = set of all words on page i\n",
    "    keywords = set of all indexable words\n",
    "    result[word] = list of pages containing word\n",
    "    standard solution\n",
    "    \"\"\"\n",
    "    result = {}\n",
    "    keywords = set(keywords)\n",
    "    for i, page in enumerate(book):\n",
    "        for word in set(page) & keywords:\n",
    "            if word not in result.keys():\n",
    "                result[word] = []\n",
    "            else:\n",
    "                result[word].append(i)\n",
    "    return result"
   ]
  },
  {
   "cell_type": "markdown",
   "metadata": {},
   "source": [
    "A variant: replace each page with the intersection of itself and the keywords"
   ]
  },
  {
   "cell_type": "code",
   "execution_count": null,
   "metadata": {},
   "outputs": [],
   "source": [
    "#collapse\n",
    "def index1(book: list, keywords: list) -> dict:\n",
    "    \"\"\"\n",
    "    book[i]  = set of all words on page i\n",
    "    keywords = set of all indexable words\n",
    "    result[word] = list of pages containing word\n",
    "    \"\"\"\n",
    "    keywords = set(keywords)\n",
    "    book = [set(page) & keywords for page in book]\n",
    "    result = {}\n",
    "    for i, page in enumerate(book):\n",
    "        for word in page:\n",
    "            if word not in result.keys():\n",
    "                result[word] = []\n",
    "            else:\n",
    "                result[word].append(i)\n",
    "    return result"
   ]
  },
  {
   "cell_type": "markdown",
   "metadata": {},
   "source": [
    "Compare the results"
   ]
  },
  {
   "cell_type": "code",
   "execution_count": null,
   "metadata": {},
   "outputs": [
    {
     "name": "stdout",
     "output_type": "stream",
     "text": [
      "index   | 0.036819500000000005\n",
      "index1  | 0.03789010000000026\n"
     ]
    }
   ],
   "source": [
    "for idx in (index, index1):\n",
    "    print(f\"{idx.__name__ :<7} | {timeit(test_index(idx), number=1000)}\")\n"
   ]
  },
  {
   "cell_type": "markdown",
   "metadata": {},
   "source": [
    "## Merging"
   ]
  },
  {
   "cell_type": "markdown",
   "metadata": {},
   "source": [
    "We write a function `merge(xs, ys: list) -> list` which returns the merge of non-descending lists xs and ys.\n",
    "Here is what `merge` is supposed to do."
   ]
  },
  {
   "cell_type": "code",
   "execution_count": null,
   "metadata": {},
   "outputs": [],
   "source": [
    "def test_merge(mrg):\n",
    "    def aux():\n",
    "        xs = [9, 11]\n",
    "        ys = [2, 4, 5]\n",
    "        test_eq(mrg(xs, ys), [2, 4, 5, 9, 11])\n",
    "\n",
    "        for i in range(100):\n",
    "            xs = i * [1]\n",
    "            ys = 2 * i * [1]\n",
    "            m = mrg(xs, ys)\n",
    "            test_eq(3 * i * [1], m)\n",
    "    return aux"
   ]
  },
  {
   "cell_type": "markdown",
   "metadata": {},
   "source": [
    "We start with a non-recursive solution. Start with an empty result.\n",
    "Let x and y be the next elements of xs and ys and assume x <= y.\n",
    "Then x is appended to the result and replaced with the next element of xs.\n",
    "Th algorithm stops if at least one of the lists is exhausted."
   ]
  },
  {
   "cell_type": "code",
   "execution_count": null,
   "metadata": {},
   "outputs": [],
   "source": [
    "#collapse\n",
    "def merge(xs, ys: list) -> list:\n",
    "    \"\"\"\n",
    "    :param xs: a non-descending list\n",
    "    :param ys: a non-descending list\n",
    "    :return: merge of xs and ys\n",
    "    Standard solution. A bit tricky.\n",
    "    \"\"\"\n",
    "    result = []\n",
    "    # invariants:\n",
    "    # x, y first elements of xs, ys, None if there is no first element\n",
    "    x = xs.pop(0) if xs else None\n",
    "    y = ys.pop(0) if ys else None\n",
    "\n",
    "    while x and y:  # same as x is not None and y is not None\n",
    "        if x <= y:  # get next element of xs for next loop\n",
    "            result.append(x)\n",
    "            x = xs.pop(0) if xs else None\n",
    "        else:  # get next element of ys for next loop\n",
    "            result.append(y)\n",
    "            y = ys.pop(0) if ys else None\n",
    "\n",
    "    # x or y may be left behind (but not both)\n",
    "    if x:\n",
    "        result.append(x)\n",
    "    if y:\n",
    "        result.append(y)\n",
    "\n",
    "    # one of the remaining xs, ys is empty\n",
    "    # the one which is not (if any) is appended to result\n",
    "    if xs:  # same as len(xs) > 0\n",
    "        result += xs\n",
    "    if ys:\n",
    "        result += ys\n",
    "\n",
    "    return result"
   ]
  },
  {
   "cell_type": "markdown",
   "metadata": {},
   "source": [
    "The recursive solution is simpler and slightly faster. The stack depth however equals the combined length of xs and ys.\n",
    "Idea: Return xs if ys is empty and vice versa. If both lists are not empty, the smaller of xs[0] and ys[0]\n",
    "is going to be the first element of the merged list to which you append the rest."
   ]
  },
  {
   "cell_type": "code",
   "execution_count": null,
   "metadata": {},
   "outputs": [],
   "source": [
    "#collapse\n",
    "def merge1(xs, ys: list):\n",
    "    \"\"\"\n",
    "    :param xs: a non-descending list\n",
    "    :param ys: a non-descending list\n",
    "    :return: merge of xs and ys\n",
    "    This the definition of merge, and it does run!\n",
    "    \"\"\"\n",
    "    if not xs:\n",
    "        return list(ys)\n",
    "    elif not ys:\n",
    "        return list(xs)\n",
    "    elif xs[0] <= ys[0]:\n",
    "        return xs[:1] + merge1(xs[1:], ys)\n",
    "    else:\n",
    "        return ys[:1] + merge1(xs, ys[1:])"
   ]
  },
  {
   "cell_type": "code",
   "execution_count": null,
   "metadata": {},
   "outputs": [
    {
     "name": "stdout",
     "output_type": "stream",
     "text": [
      "merge | 0.1436288000000001\n",
      "merge1| 0.14114170000000037\n"
     ]
    }
   ],
   "source": [
    "for mrg in (merge, merge1):\n",
    "    print(f\"{mrg.__name__ :<6}| {timeit(test_merge(mrg), number=1)}\")"
   ]
  },
  {
   "cell_type": "markdown",
   "metadata": {},
   "source": [
    "## Towers of Hanoi"
   ]
  },
  {
   "cell_type": "markdown",
   "metadata": {},
   "source": [
    "We write a function `hanoi(n: int) -> list` which returns the list of all moves when you do the towers of Hanoi with\n",
    "n disks on the first pole. The number of moves is exactly 2**n. Here is what `hanoi` is supposed to do."
   ]
  },
  {
   "cell_type": "code",
   "execution_count": null,
   "metadata": {},
   "outputs": [],
   "source": [
    "def test_hanoi():\n",
    "    protocol = hanoi(2)\n",
    "    expected = [([2, 1], [], []),    # initial state\n",
    "                ([2], [1], []),      # move disk 1 from a to b\n",
    "                ([], [1], [2]),      # move disk 2 from a to c\n",
    "                ([], [], [2, 1])]    # move disk 1 from b to c\n",
    "    test_eq(expected, protocol)\n",
    "    n = 20\n",
    "    test_eq(len(hanoi(n)), 2**n)"
   ]
  },
  {
   "cell_type": "markdown",
   "metadata": {},
   "source": [
    "Idea:\n",
    "\n",
    "(1) A natural representation of the Hanoi towers ar three stacks, named a, b, c.\n",
    "The first one, a, is initialized to [n, n-1, ..., 1], b and c are empty.\n",
    "\n",
    "(2) Let `move(k, x, y, z)` denote the move of k disks from stack x to stack z using y as buffer.\n",
    "\n",
    "The algorithm is recursive:\n",
    "`move(1, a, b, c)` is obvious: Just perform the move, let the buffer alone.\n",
    "`move(2, a, b, c)` requires three moves: `(1, a, c, b), (1, a, b, c), (1, b, a, c)`\n",
    "In exactly the same way the general case `move(n, a, b, c)` can be reduced to three\n",
    "moves with n-1 instead of n."
   ]
  },
  {
   "cell_type": "code",
   "execution_count": null,
   "metadata": {},
   "outputs": [],
   "source": [
    "#collapse\n",
    "def hanoi(n: int) -> list:\n",
    "    \"\"\"\n",
    "    Towers of Hanoi. Exponential time (n = 22 -> 12s)\n",
    "    :param n: number of disks on first tower > 0\n",
    "    :return: protocol of all moves\n",
    "    \"\"\"\n",
    "\n",
    "    a, b, c = list(range(n, 0, -1)), [], []     # a = [n, n-1, ..., 1]\n",
    "    protocol = [(list(a), list(b), list(c))]\n",
    "\n",
    "    def move(k: int, x: list, y: list, z: list) -> None:\n",
    "        \"\"\"\n",
    "        This function moves k disks from x to z using y\n",
    "        :param k: number of disks to move\n",
    "        :param x: stack to move from\n",
    "        :param y: buffer\n",
    "        :param z: stack to move to\n",
    "        \"\"\"\n",
    "        if k == 1:\n",
    "            z.append(x.pop())\n",
    "            protocol.append((list(a), list(b), list(c)))\n",
    "        else:\n",
    "            move(k - 1, x, z, y)\n",
    "            move(1, x, y, z)\n",
    "            move(k - 1, y, x, z)\n",
    "\n",
    "    move(n, a, b, c)\n",
    "    return protocol"
   ]
  },
  {
   "cell_type": "code",
   "execution_count": null,
   "metadata": {},
   "outputs": [
    {
     "name": "stdout",
     "output_type": "stream",
     "text": [
      "hanoi | 0.7914820000000002\n"
     ]
    }
   ],
   "source": [
    "print(f\"{hanoi.__name__ :<6}| {timeit(test_hanoi, number=1)}\")"
   ]
  }
 ],
 "metadata": {
  "kernelspec": {
   "display_name": "Python 3",
   "language": "python",
   "name": "python3"
  }
 },
 "nbformat": 4,
 "nbformat_minor": 1
}
