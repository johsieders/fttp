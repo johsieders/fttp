{
 "cells": [
  {
   "cell_type": "markdown",
   "metadata": {},
   "source": [
    "# Collections\n",
    "\n",
    "> Tuples and lists, sets and dictionaries, and L"
   ]
  },
  {
   "cell_type": "markdown",
   "metadata": {},
   "source": [
    "We use fastai's test library. Our tests always preceed the implementation(s). They should silently go through, returning only the execution time."
   ]
  },
  {
   "cell_type": "code",
   "execution_count": null,
   "metadata": {},
   "outputs": [],
   "source": [
    "# uncomment this to install nbdev\n",
    "# !pip install nbdev\n",
    "\n",
    "from fastcore.test import test_eq\n",
    "from timeit import timeit"
   ]
  },
  {
   "cell_type": "markdown",
   "metadata": {},
   "source": [
    "\n",
    "## Tuples and Lists\n",
    "\n",
    "Iterables produce Iterators via `iter()` such as all Collections.\n",
    "Iterator yield the next element via `next()`. By convention, all Iterators\n",
    "are also Iterables; the standard implementation being to return self.\n",
    "Some examples:\n",
    "\n",
    "* `(0, 1, 2, 3)` is a tuple, no iterator\n",
    "* `range(4)` is a tuple, no iterator\n",
    "* `naturals()` is an iterator\n",
    "* `(1 / k for k in naturals())` is an iterator"
   ]
  },
  {
   "cell_type": "markdown",
   "metadata": {},
   "source": [
    "## Sets"
   ]
  },
  {
   "cell_type": "markdown",
   "metadata": {},
   "source": [
    "todo"
   ]
  },
  {
   "cell_type": "markdown",
   "metadata": {},
   "source": [
    "## Dictionaries"
   ]
  },
  {
   "cell_type": "markdown",
   "metadata": {},
   "source": [
    "todo"
   ]
  },
  {
   "cell_type": "markdown",
   "metadata": {},
   "source": [
    "## Merging Lists"
   ]
  },
  {
   "cell_type": "markdown",
   "metadata": {},
   "source": [
    "We write a function `merge(xs, ys: list) -> list` which returns the merge of non-descending lists xs and ys.\n",
    "Here is what `merge` is supposed to do."
   ]
  },
  {
   "cell_type": "code",
   "execution_count": null,
   "metadata": {},
   "outputs": [],
   "source": [
    "def test_merge(mrg):\n",
    "    def aux():\n",
    "        xs = [9, 11]\n",
    "        ys = [2, 4, 5]\n",
    "        test_eq(mrg(xs, ys), [2, 4, 5, 9, 11])\n",
    "\n",
    "        for i in range(1000):\n",
    "            xs = i * [1]\n",
    "            ys = 2 * i * [1]\n",
    "            m = mrg(xs, ys)\n",
    "            test_eq(3 * i * [1], m)\n",
    "    return aux"
   ]
  },
  {
   "cell_type": "markdown",
   "metadata": {},
   "source": [
    "Idea:"
   ]
  },
  {
   "cell_type": "code",
   "execution_count": null,
   "metadata": {},
   "outputs": [],
   "source": [
    "#collapse\n",
    "def merge(xs, ys: list) -> list:\n",
    "    \"\"\"\n",
    "    :param xs: a non-descending list\n",
    "    :param ys: a non-descending list\n",
    "    :return: merge of xs and ys\n",
    "    Standard solution. A bit tricky.\n",
    "    \"\"\"\n",
    "    result = []\n",
    "    # invariants:\n",
    "    # x, y first elements of xs, ys, None if there is no first element\n",
    "    x = xs.pop(0) if xs else None\n",
    "    y = ys.pop(0) if ys else None\n",
    "\n",
    "    while x and y:  # same as x is not None and y is not None\n",
    "        if x <= y:  # get next element of xs for next loop\n",
    "            result.append(x)\n",
    "            x = xs.pop(0) if xs else None\n",
    "        else:  # get next element of ys for next loop\n",
    "            result.append(y)\n",
    "            y = ys.pop(0) if ys else None\n",
    "\n",
    "    # x or y may be left behind (but not both)\n",
    "    if x:\n",
    "        result.append(x)\n",
    "    if y:\n",
    "        result.append(y)\n",
    "\n",
    "    # one of the remaining xs, ys is empty\n",
    "    # the one which is not (if any) is appended to result\n",
    "    if xs:  # same as len(xs) > 0\n",
    "        result += xs\n",
    "    if ys:\n",
    "        result += ys\n",
    "\n",
    "    return result"
   ]
  },
  {
   "cell_type": "markdown",
   "metadata": {},
   "source": [
    "#### A recursive solution."
   ]
  },
  {
   "cell_type": "code",
   "execution_count": null,
   "metadata": {},
   "outputs": [],
   "source": [
    "#collapse\n",
    "def merge1(xs, ys: list):\n",
    "    \"\"\"\n",
    "    :param xs: a non-descending list\n",
    "    :param ys: a non-descending list\n",
    "    :return: merge of xs and ys\n",
    "    This the definition of merge, and it does run!\n",
    "    \"\"\"\n",
    "    if not xs:\n",
    "        return list(ys)\n",
    "    elif not ys:\n",
    "        return list(xs)\n",
    "    elif xs[0] <= ys[0]:\n",
    "        return xs[:1] + merge1(xs[1:], ys)\n",
    "    else:\n",
    "        return ys[:1] + merge1(xs, ys[1:])"
   ]
  },
  {
   "cell_type": "code",
   "execution_count": null,
   "metadata": {},
   "outputs": [
    {
     "name": "stdout",
     "output_type": "stream",
     "text": [
      "merge | 13.045419299999594\n",
      "merge1| 15.533606099999815\n"
     ]
    }
   ],
   "source": [
    "for mrg in (merge, merge1):\n",
    "    print(f\"{mrg.__name__ :<6}| {timeit(test_merge(mrg), number=1)}\")"
   ]
  },
  {
   "cell_type": "markdown",
   "metadata": {},
   "source": [
    "## Towers of Hanoi"
   ]
  },
  {
   "cell_type": "markdown",
   "metadata": {},
   "source": [
    "We write a function `hanoi(n: int) -> list` which returns the list of all moves when you do the towers of Hanoi with\n",
    "n disks on the first pole. The number of moves is exactly 2**n. Here is what `hanoi` is supposed to do."
   ]
  },
  {
   "cell_type": "code",
   "execution_count": null,
   "metadata": {},
   "outputs": [],
   "source": [
    "def test_hanoi():\n",
    "    protocol = hanoi(2)\n",
    "    expected = [([2, 1], [], []),    # initial state\n",
    "                ([2], [1], []),      # move disk 1 from a to b\n",
    "                ([], [1], [2]),      # move disk 2 from a to c\n",
    "                ([], [], [2, 1])]    # move disk 1 from b to c\n",
    "    test_eq(expected, protocol)\n",
    "    n = 22\n",
    "    test_eq(len(hanoi(n)), 2**n)"
   ]
  },
  {
   "cell_type": "markdown",
   "metadata": {},
   "source": [
    "Idea:\n",
    "\n",
    "(1) A natural representation of the Hanoi towers ar three stacks, named a, b, c.\n",
    "The first one, a, is initialized to [n, n-1, ..., 1], b and c are empty.\n",
    "\n",
    "(2) Let `move(k, x, y, z)` denote the move of k disks from stack x to stack z using y as buffer.\n",
    "\n",
    "The algorithm is recursive:\n",
    "`move(1, a, b, c)` is obvious: Just perform the move, let the buffer alone.\n",
    "`move(2, a, b, c)` requires three moves: `(1, a, c, b), (1, a, b, c), (1, b, a, c)`\n",
    "In exactly the same way the general case `move(n, a, b, c)` can be reduced to three\n",
    "moves with n-1 instead of n."
   ]
  },
  {
   "cell_type": "code",
   "execution_count": null,
   "metadata": {},
   "outputs": [],
   "source": [
    "#collapse\n",
    "def hanoi(n: int) -> list:\n",
    "    \"\"\"\n",
    "    Towers of Hanoi. Exponential time (n = 22 -> 12s)\n",
    "    :param n: number of disks on first tower > 0\n",
    "    :return: protocol of all moves\n",
    "    \"\"\"\n",
    "\n",
    "    a, b, c = list(range(n, 0, -1)), [], []     # a = [n, n-1, ..., 1]\n",
    "    protocol = [(list(a), list(b), list(c))]\n",
    "\n",
    "    def move(k: int, x: list, y: list, z: list) -> None:\n",
    "        \"\"\"\n",
    "        This function moves k disks from x to z using y\n",
    "        :param k: number of disks to move\n",
    "        :param x: stack to move from\n",
    "        :param y: buffer\n",
    "        :param z: stack to move to\n",
    "        \"\"\"\n",
    "        if k == 1:\n",
    "            z.append(x.pop())\n",
    "            protocol.append((list(a), list(b), list(c)))\n",
    "        else:\n",
    "            move(k - 1, x, z, y)\n",
    "            move(1, x, y, z)\n",
    "            move(k - 1, y, x, z)\n",
    "\n",
    "    move(n, a, b, c)\n",
    "    return protocol"
   ]
  },
  {
   "cell_type": "code",
   "execution_count": null,
   "metadata": {},
   "outputs": [
    {
     "name": "stdout",
     "output_type": "stream",
     "text": [
      "hanoi | 3.1124548999996478\n"
     ]
    }
   ],
   "source": [
    "print(f\"{hanoi.__name__ :<6}| {timeit(test_hanoi, number=1)}\")"
   ]
  }
 ],
 "metadata": {
  "kernelspec": {
   "display_name": "Python 3",
   "language": "python",
   "name": "python3"
  }
 },
 "nbformat": 4,
 "nbformat_minor": 1
}
