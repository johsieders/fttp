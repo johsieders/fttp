{
 "cells": [
  {
   "cell_type": "markdown",
   "metadata": {},
   "source": [
    "# Interpreters\n",
    "\n",
    "> infix to postix, interpreting formulas"
   ]
  },
  {
   "cell_type": "code",
   "execution_count": null,
   "metadata": {},
   "outputs": [],
   "source": [
    "import sys\n",
    "from functools import reduce\n",
    "\n",
    "def binary2nary(f):\n",
    "    return lambda *args: reduce(f, args)\n",
    "\n",
    "def curry(f, x):  # binds first arg\n",
    "    return lambda *xs: f(*(x,) + xs)\n",
    "\n",
    "def rcurry(f, x):  # binds last arg\n",
    "    return lambda *xs: f(*xs + (x,))\n",
    "\n",
    "def flip(f):\n",
    "    return lambda x, y: f(y, x)  # flips args\n",
    "\n",
    "def compose(f, g):\n",
    "    return lambda *x: f(g(*x))\n",
    "\n",
    "def negate(p):\n",
    "    return lambda x: not p(x)\n",
    "\n",
    "def unary_and(p, q):\n",
    "    return lambda x: p(x) and q(x)\n",
    "\n",
    "def unary_or(p, q):\n",
    "    return lambda x: p(x) or q(x)"
   ]
  },
  {
   "cell_type": "markdown",
   "metadata": {},
   "source": [
    "## Infix to postfix"
   ]
  },
  {
   "cell_type": "code",
   "execution_count": null,
   "metadata": {},
   "outputs": [],
   "source": [
    "def brackets_ok(formula: str) -> bool:\n",
    "    \"\"\"\n",
    "    :param formula: a formula containing round brackets\n",
    "    :return: True if the brackets match\n",
    "    \"\"\"\n",
    "    bc = 0  ## bracket count\n",
    "    for c in formula:\n",
    "        if c == '(':\n",
    "            bc += 1\n",
    "        elif c == ')':\n",
    "            bc -= 1\n",
    "            if bc < 0:  # bc must never be negative\n",
    "                return False\n",
    "    return bc == 0  # bc must be 0\n",
    "\n",
    "def strip_brackets(formula: str) -> str:\n",
    "    \"\"\"\n",
    "    :param formula: a formula\n",
    "    :return: formula without blanks and redundant outer brackets stripped\n",
    "    \"\"\"\n",
    "    while formula[0] == '(' and formula[-1] == ')' and brackets_ok(formula[1:-1]):\n",
    "        formula = formula[1:-1]\n",
    "    return formula\n",
    "\n",
    "def split(formula: str, operators: dict) -> tuple:\n",
    "    \"\"\"\n",
    "    :param formula: an infix formula\n",
    "    :param operators: a dict of operators\n",
    "    :return:\n",
    "        a) the formula's first part\n",
    "        b) the innermost operator (lowest priority)\n",
    "        c) the formula's second part\n",
    "    \"\"\"\n",
    "    bracket_count = 0  # counts brackets\n",
    "    min_weight = sys.maxsize  # weight of lowest priority op\n",
    "    min_idx = -1  # index of this op\n",
    "\n",
    "    for i, c in enumerate(formula):\n",
    "        if c == '(':\n",
    "            bracket_count += 1\n",
    "        elif c == ')':\n",
    "            bracket_count -= 1\n",
    "        elif c in operators:\n",
    "            arity, prio = operators[c]\n",
    "            w = prio + bracket_count\n",
    "            if min_weight >= w:\n",
    "                min_weight, min_idx = w, i\n",
    "    if min_idx < 0:  # no operator\n",
    "        return formula, None, None\n",
    "    else:\n",
    "        return formula[:min_idx], formula[min_idx], formula[min_idx + 1:]"
   ]
  },
  {
   "cell_type": "markdown",
   "metadata": {},
   "source": [
    "## A Simple Grammar"
   ]
  },
  {
   "cell_type": "code",
   "execution_count": null,
   "metadata": {},
   "outputs": [
    {
     "name": "stdout",
     "output_type": "stream",
     "text": [
      "ab~+cd*-zt~+u~-+\n"
     ]
    }
   ],
   "source": [
    "# the dict operators contains all operators with\n",
    "# 1) arity (= 1 or 2) and\n",
    "# 2) priority (= 1, 2 or 3; 1 = low, 3 = high)\n",
    "\n",
    "operators = {'+': (2, 1), '-': (2, 1), '*': (2, 2), '/': (2, 2), '~': (1, 3)}\n",
    "# print(split(formula, operators))\n",
    "\n",
    "\n",
    "def infix2postfix(formula: str, operators: dict) -> str:\n",
    "    \"\"\"\n",
    "    :param formula: an infix formula\n",
    "    :param operators: a dictionary of operators\n",
    "    :return: formula as postfix\n",
    "    \"\"\"\n",
    "    formula = formula.strip()\n",
    "    if not formula:\n",
    "        return formula\n",
    "    formula = strip_brackets(formula)\n",
    "    left, op, right = split(formula, operators)\n",
    "    if op is None:\n",
    "        return formula\n",
    "    left = infix2postfix(left, operators)\n",
    "    right = infix2postfix(right, operators)\n",
    "    return left + right + op\n",
    "\n",
    "# formula = \"(((a) + (b - z)) + c) * d\"\n",
    "formula = \"a +~b-c * d + (z + ~t - ~u) \"\n",
    "# formula = \"a - b + c\"\n",
    "print(infix2postfix(formula, operators))"
   ]
  },
  {
   "cell_type": "code",
   "execution_count": null,
   "metadata": {},
   "outputs": [
    {
     "name": "stdout",
     "output_type": "stream",
     "text": [
      "False\n"
     ]
    }
   ],
   "source": [
    "def translate(formula, namespace):\n",
    "    \"\"\"\n",
    "    translate a postfix-formula into an executable predicate\n",
    "    operators are AND, OR, NOT\n",
    "    namespace contains predicates\n",
    "    \"\"\"\n",
    "\n",
    "    stack = []\n",
    "    for token in formula.split():\n",
    "        if token == \"AND\":\n",
    "            p = stack.pop()\n",
    "            q = stack.pop()\n",
    "            stack.append(unary_and(q, p))\n",
    "        elif token == \"OR\":\n",
    "            p = stack.pop()\n",
    "            q = stack.pop()\n",
    "            stack.append(unary_or(q, p))\n",
    "        elif token == \"NOT\":\n",
    "            p = stack.pop()\n",
    "            stack.append(negate(p))\n",
    "        else:\n",
    "            stack.append(namespace[token])\n",
    "    if len(stack) != 1:\n",
    "        raise ValueError('bad formula')\n",
    "    return stack.pop()\n",
    "\n",
    "def odd(x):\n",
    "    return bool(x % 2)\n",
    "\n",
    "even = negate(odd)\n",
    "\n",
    "namespace = {'a' : odd, 'b' : even}\n",
    "formula = 'a b AND'\n",
    "\n",
    "p = translate(formula, namespace)\n",
    "print(p(1))"
   ]
  },
  {
   "cell_type": "markdown",
   "metadata": {},
   "source": [
    "##  Compiling FORTH"
   ]
  },
  {
   "cell_type": "markdown",
   "metadata": {},
   "source": [
    "todo\n",
    "\n",
    "\n"
   ]
  }
 ],
 "metadata": {
  "kernelspec": {
   "display_name": "Python 3",
   "language": "python",
   "name": "python3"
  }
 },
 "nbformat": 4,
 "nbformat_minor": 1
}
