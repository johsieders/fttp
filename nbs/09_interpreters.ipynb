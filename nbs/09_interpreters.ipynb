{
 "cells": [
  {
   "cell_type": "markdown",
   "metadata": {},
   "source": [
    "# Interpreters\n",
    "\n",
    "> infix to postix, interpreting formulas"
   ]
  },
  {
   "cell_type": "markdown",
   "metadata": {},
   "source": []
  },
  {
   "cell_type": "markdown",
   "metadata": {},
   "source": [
    "\n",
    "## Infix to postfix\n",
    "\n",
    "Iterables produce Iterators via `iter()` such as all Collections.\n",
    "Iterator yield the next element via `next()`. By convention, all Iterators\n",
    "are also Iterables; the standard implementation being to return self.\n",
    "Some examples:\n",
    "\n",
    "* `(0, 1, 2, 3)` is a tuple, no iterator\n",
    "* `range(4)` is a tuple, no iterator\n",
    "* `naturals()` is an iterator\n",
    "* `(1 / k for k in naturals())` is an iterator"
   ]
  },
  {
   "cell_type": "markdown",
   "metadata": {},
   "source": [
    "## A simple grammar"
   ]
  },
  {
   "cell_type": "markdown",
   "metadata": {},
   "source": [
    "todo"
   ]
  },
  {
   "cell_type": "markdown",
   "metadata": {},
   "source": [
    "##  Compiling FORTH"
   ]
  },
  {
   "cell_type": "markdown",
   "metadata": {},
   "source": [
    "todo\n",
    "\n",
    "\n"
   ]
  }
 ],
 "metadata": {
  "kernelspec": {
   "display_name": "Python 3",
   "language": "python",
   "name": "python3"
  }
 },
 "nbformat": 4,
 "nbformat_minor": 1
}
