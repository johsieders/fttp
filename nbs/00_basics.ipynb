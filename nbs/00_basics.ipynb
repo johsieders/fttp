{
 "cells": [
  {
   "cell_type": "markdown",
   "metadata": {},
   "source": [
    "### Programmstruktur\n",
    "Kommentar mit “““ … “““\n",
    "\n",
    "The first thing to do is to figure out how the function is supposed to behave.\n",
    "Take `gcd(a, b`, the greatest common divisor of `a` and `b` as an example.\n",
    "Everybody knows that `gcd(20, 15)`equals 5, but what is `gcd(0, 0)`, `gcd(0, 7)`, `gcd(0, -7)`?\n",
    "In fact, `gcd(a, b)` is a if b is 0 and b if a is 0, and this must be clear before the program is worked out.\n",
    "\n",
    "In this tutorial, each exercise starts with a short, informal description of the function to be programmed,\n",
    "and a test which formally describes the desired behavior for obvious an non-obvious cases.\n",
    "The test is hardly ever a full specification covering all imaginable details but conveys the essence.\n",
    "We always include trivial situations (zero, empty list, empty set), standard behaviour and occasionally\n",
    "one or more challenges which push the algorithm to its limits.\n",
    "\n",
    "There are often two or more solutions. But however wildly the algorithms differ, they\n",
    "all run against the same test.\n",
    "\n",
    "Testing has at least three benefits:\n",
    "- Understanding: The programmer gets a clear image of what the program is supposed to do.\n",
    "- Definition of Done: You are done when the all testcases succeed.\n",
    "- Documentation: Testcases document univocally what the function does.\n",
    "\n",
    "We always start with trivial testcases: None, zero, one, two, the empty list, a list with one element.\n",
    "Testcases evolve in time."
   ]
  }
 ],
 "metadata": {
  "kernelspec": {
   "display_name": "Python 3",
   "language": "python",
   "name": "python3"
  }
 },
 "nbformat": 4,
 "nbformat_minor": 0
}
