{
 "cells": [
  {
   "cell_type": "markdown",
   "metadata": {},
   "source": [
    "# Binary Trees\n",
    "\n",
    "> Searching and sorting with binary trees "
   ]
  },
  {
   "cell_type": "markdown",
   "metadata": {},
   "source": [
    "We consider binary trees. Each node has a value, a left subtree, and a right subtree.\n",
    "Nodes are represented by triples `(left_subtree, value, right_subtree)`,\n",
    "left and right subtrees being `None` or a triple of the same type. That's a recursive data structure.\n",
    "An important convention is about the empty tree:\n",
    "The empty tree is just `None`; a subtree with one only node is `(None, value, None)`\n",
    "A tree is represented by its root, so, there is no difference between a node and a tree.\n",
    "\n",
    "There are basically two ways to traverse a tree:\n",
    "\n",
    "- **depth first**\n",
    "- **breadth first**\n",
    "\n",
    "There are six varieties of depth first, corresponding to six permutations of (left, value, right).\n",
    "\n",
    "Four of these have a name:\n",
    "\n",
    "- **preorder**: value, left, right\n",
    "- **inorder**: left, value, right\n",
    "- **revinorder**: right, value, left\n",
    "- **postorder**: right, left, value\n",
    "\n",
    "Two varieties of depth first are not used:\n",
    "\n",
    "- **no name**: value, right, left\n",
    "- **no name**: left, right, value\n",
    "\n",
    "Traversing a tree breadth first is by layer:\n",
    "the root comes first (layer 0), then its children (layer 1),\n",
    "then their children (layer 2) and so on. Breath first is always top-down, and\n",
    "in general left to right, but right to left is equally possible.\n",
    "\n",
    "This gives us two types of programming tasks: convert a binary structure in\n",
    "a linear structure (preorder, inorder or whatever) and convert a linear structure back\n",
    "to a binary structure. The recursive version is often straightforward;\n",
    "the non-recursive variety uses stacks or decks.\n",
    "It can be less obvious but gives some insight in how trees behave."
   ]
  },
  {
   "cell_type": "code",
   "execution_count": null,
   "metadata": {},
   "outputs": [],
   "source": [
    "from collections import deque\n",
    "from collections.abc import Iterator"
   ]
  },
  {
   "cell_type": "markdown",
   "metadata": {},
   "source": [
    "## Exercise A"
   ]
  },
  {
   "cell_type": "markdown",
   "metadata": {},
   "source": [
    "- Write a recursive function `preorder(tree) -> Iterator` which yields the preorder traversal of that tree."
   ]
  },
  {
   "cell_type": "code",
   "execution_count": null,
   "metadata": {},
   "outputs": [],
   "source": [
    "#collapse\n",
    "def preorder(tree: tuple) -> Iterator:\n",
    "    if tree is not None:\n",
    "        yield tree[1]\n",
    "        yield from preorder(tree[0])\n",
    "        yield from preorder(tree[2])"
   ]
  },
  {
   "cell_type": "markdown",
   "metadata": {},
   "source": [
    "- Write a recursive function `inorder(tree) -> Iterator` which yields the inorder traversal of that tree."
   ]
  },
  {
   "cell_type": "code",
   "execution_count": null,
   "metadata": {},
   "outputs": [],
   "source": [
    "#collapse\n",
    "def inorder(tree: tuple) -> Iterator:\n",
    "    if tree is not None:\n",
    "        yield from inorder(tree[0])\n",
    "        yield tree[1]\n",
    "        yield from inorder(tree[2])"
   ]
  },
  {
   "cell_type": "markdown",
   "metadata": {},
   "source": [
    "- Write a recursive function `revinorder(tree) -> Iterator` which yields the revinorder traversal of that tree."
   ]
  },
  {
   "cell_type": "code",
   "execution_count": null,
   "metadata": {},
   "outputs": [],
   "source": [
    "#collapse\n",
    "def revinorder(tree: tuple) -> Iterator:\n",
    "    if tree is not None:\n",
    "        yield from revinorder(tree[2])\n",
    "        yield tree[1]\n",
    "        yield from revinorder(tree[0])"
   ]
  },
  {
   "cell_type": "markdown",
   "metadata": {},
   "source": [
    "- Write a recursive function `postorder(tree) -> Iterator` which yields the postorder traversal of that tree."
   ]
  },
  {
   "cell_type": "code",
   "execution_count": null,
   "metadata": {},
   "outputs": [],
   "source": [
    "#collapse\n",
    "def postorder(tree: tuple) -> Iterator:\n",
    "    if tree is not None:\n",
    "        yield from postorder(tree[2])\n",
    "        yield from postorder(tree[0])\n",
    "        yield tree[1]"
   ]
  },
  {
   "cell_type": "markdown",
   "metadata": {},
   "source": [
    "- Write a recursive function `breadthfirst(tree) -> Iterator` which yields the breadth first traversal of that tree."
   ]
  },
  {
   "cell_type": "code",
   "execution_count": null,
   "metadata": {},
   "outputs": [],
   "source": [
    "#collapse\n",
    "def breadthfirst(*trees: tuple) -> Iterator:\n",
    "    \"\"\"\n",
    "    :param trees: binary trees given as (left_subtree, value, right_subtree)\n",
    "    :return: iterator of values in breadth-first-order\n",
    "    \"\"\"\n",
    "    if not trees:\n",
    "        return\n",
    "    kids = []\n",
    "    for tree in trees:\n",
    "        if tree is not None:  # yield this layer and build the next one\n",
    "            yield tree[1]\n",
    "            kids.append(tree[0])\n",
    "            kids.append(tree[2])\n",
    "    yield from breadthfirst(*kids)  # yield next layer"
   ]
  },
  {
   "cell_type": "markdown",
   "metadata": {},
   "source": [
    "- Write a recursive function `bfo2tree(bfo) -> tuple` which transforms a tree represented as a bfo-list into a binary tree."
   ]
  },
  {
   "cell_type": "code",
   "execution_count": null,
   "metadata": {},
   "outputs": [],
   "source": [
    "#collapse\n",
    "def bfo2tree(bfo: list, i=0) -> tuple:\n",
    "    \"\"\"\"\n",
    "    :param bfo: a tree represented as a list in breadth first order (bfo)\n",
    "    :param i: index of a node >= 0\n",
    "    :return: this tree represented as a binary tree, each node being\n",
    "    a triple (left_subtree, value, right_subtree)\n",
    "    None represents the empty tree, so bfo2tree([]) is None\n",
    "    \"\"\"\n",
    "    if bfo:\n",
    "        left = bfo2tree(bfo, 2 * i + 1) if 2 * i + 1 < len(bfo) else None\n",
    "        right = bfo2tree(bfo, 2 * i + 2) if 2 * i + 2 < len(bfo) else None\n",
    "        return left, bfo[i], right"
   ]
  },
  {
   "cell_type": "markdown",
   "metadata": {},
   "source": [
    "## Exercise B"
   ]
  },
  {
   "cell_type": "markdown",
   "metadata": {},
   "source": [
    "- Write a non-recursive function `preorder(tree) -> Iterator` which yields the preorder traversal of that tree.\n",
    "  - Hint: use a stack."
   ]
  },
  {
   "cell_type": "code",
   "execution_count": null,
   "metadata": {},
   "outputs": [],
   "source": [
    "#collapse\n",
    "def preorder1(tree: tuple) -> Iterator:\n",
    "    \"\"\"\n",
    "    :param tree: a binary tree given as (left_subtree, value, right_subtree)\n",
    "    :return: iterator of values in preorder\n",
    "    compare this to breadthfirst1\n",
    "    \"\"\"\n",
    "    if tree is not None:\n",
    "        stack = [tree]\n",
    "        while stack:\n",
    "            tree = stack.pop()\n",
    "            if tree is not None:\n",
    "                yield tree[1]\n",
    "                stack.append(tree[2])\n",
    "                stack.append(tree[0])"
   ]
  },
  {
   "cell_type": "markdown",
   "metadata": {},
   "source": [
    "- Write a non-recursive function `breadthfirst(tree) -> Iterator` which yields the breadthfirst traversal of that tree.\n",
    "  - Hint: use a deque."
   ]
  },
  {
   "cell_type": "code",
   "execution_count": null,
   "metadata": {},
   "outputs": [],
   "source": [
    "#collapse\n",
    "def breadthfirst1(tree: tuple) -> Iterator:\n",
    "    \"\"\"\n",
    "    :param tree: a binary tree given as (left_subtree, value, right_subtree)\n",
    "    :return: iterator of values in breadth-first-order\n",
    "    compare this to preorder1\n",
    "    \"\"\"\n",
    "    if tree is not None:\n",
    "        queue = deque([tree])\n",
    "        while queue:\n",
    "            tree = queue.popleft()\n",
    "            if tree is not None:\n",
    "                yield tree[1]\n",
    "                queue.append(tree[0])\n",
    "                queue.append(tree[2])"
   ]
  },
  {
   "cell_type": "markdown",
   "metadata": {},
   "source": [
    "- Write a non-recursive function `breadthfirst(tree) -> list` which returns the breadth first traversal of that tree as a list."
   ]
  },
  {
   "cell_type": "code",
   "execution_count": null,
   "metadata": {},
   "outputs": [],
   "source": [
    "#collapse\n",
    "def breadthfirst2(tree: tuple) -> list:\n",
    "    \"\"\"\n",
    "    :param tree: a binary tree given as (left_subtree, value, right_subtree)\n",
    "    :return: list of values in breadth-first-order\n",
    "    \"\"\"\n",
    "    result = []\n",
    "    if tree is not None:\n",
    "        queue = deque([tree])\n",
    "        while len(queue) > 0:\n",
    "            tree = queue.popleft()\n",
    "            if tree is not None:\n",
    "                result.append(tree[1])  # this replaces yield tree[1]\n",
    "                queue.append(tree[0])\n",
    "                queue.append(tree[2])\n",
    "    return result"
   ]
  },
  {
   "cell_type": "markdown",
   "metadata": {},
   "source": [
    "- Write a non-recursive function `inorder(tree) -> Iterator` which yields the breadth-first traversal of that tree.\n",
    "  - Hint: that's tricky, use a stack"
   ]
  },
  {
   "cell_type": "code",
   "execution_count": null,
   "metadata": {},
   "outputs": [],
   "source": [
    "#collapse\n",
    "def inorder1(tree: tuple) -> Iterator:\n",
    "    if tree is not None:\n",
    "        stack = [tree]\n",
    "        while stack:\n",
    "            tree = stack.pop()\n",
    "            if tree is not None:  # descend left subtree\n",
    "                stack.append(tree)\n",
    "                stack.append(tree[0])\n",
    "            elif stack:  # bottom reached, one step up\n",
    "                tree = stack.pop()\n",
    "                yield tree[1]\n",
    "                stack.append(tree[2])  # descend right subtree"
   ]
  }
 ],
 "metadata": {
  "kernelspec": {
   "display_name": "Python 3.9.1 64-bit",
   "metadata": {
    "interpreter": {
     "hash": "ac2eaa0ea0ebeafcc7822e65e46aa9d4f966f30b695406963e145ea4a91cd4fc"
    }
   },
   "name": "python3"
  }
 },
 "nbformat": 4,
 "nbformat_minor": 1
}
